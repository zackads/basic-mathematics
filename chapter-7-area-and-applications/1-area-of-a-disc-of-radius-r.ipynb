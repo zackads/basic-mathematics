{
 "cells": [
  {
   "cell_type": "code",
   "execution_count": 115,
   "outputs": [],
   "source": [
    "import matplotlib.pyplot as plt\n",
    "from matplotlib.patches import Rectangle"
   ],
   "metadata": {
    "collapsed": false,
    "pycharm": {
     "name": "#%%\n"
    }
   }
  },
  {
   "cell_type": "markdown",
   "source": [
    "# §1 - Area of a disc of radius r\n",
    "\n",
    "https://www.docdroid.net/K1VENuF/basic-mathematics-serge-lang-pdf#page=189\n",
    "\n",
    "## The big ideas"
   ],
   "metadata": {
    "collapsed": false,
    "pycharm": {
     "name": "#%% md\n"
    }
   }
  },
  {
   "cell_type": "markdown",
   "source": [
    "## Exercises\n",
    "\n",
    "### 1\n",
    "\n",
    "a) Draw a rectangle whose sides have lengths 2 in. and \\frac{1}{2} in. respectively.  What is the area of this rectangle?\n",
    "\n",
    "b) Draw the rectangle whose sides have lengths equal to twice the length of the sides of the rectangle in part (a).  What is the area of this rectangle?\n",
    "\n",
    "c) Same question for the rectangle whose sides have lengths equal to three times the lengths of the sides of the rectangle in part (a).\n",
    "\n",
    "d) Same question for the rectangle whose sides have lengths equal to one-half the lengths of the sides of the rectangle in part (a).\n",
    "\n",
    "---"
   ],
   "metadata": {
    "collapsed": false,
    "pycharm": {
     "name": "#%% md\n"
    }
   }
  },
  {
   "cell_type": "code",
   "execution_count": 3,
   "outputs": [
    {
     "data": {
      "text/plain": "Text(6, 6, '(c)')"
     },
     "execution_count": 3,
     "metadata": {},
     "output_type": "execute_result"
    },
    {
     "data": {
      "text/plain": "<Figure size 360x360 with 1 Axes>",
      "image/png": "[encoded data removed]"
     },
     "metadata": {
      "needs_background": "light"
     },
     "output_type": "display_data"
    }
   ],
   "source": [
    "fig, ax = plt.subplots(figsize=(5, 5))\n",
    "\n",
    "plt.gca().set_aspect('equal')\n",
    "plt.xlim([0, 10])\n",
    "plt.ylim([0, 10])\n",
    "\n",
    "# (a), area = 2 * 0.5 = 1\n",
    "ax.add_patch(Rectangle(\n",
    "    xy=(1, 1),\n",
    "    width=2,\n",
    "    height=0.5))\n",
    "plt.annotate('(a)', (1,1))\n",
    "\n",
    "# (b), area = 2(2) * 2(0.5) = 4\n",
    "ax.add_patch(Rectangle(\n",
    "    xy=(2, 2),\n",
    "    width=2*2,\n",
    "    height=0.5*2))\n",
    "plt.annotate('(b)', (2,2))\n",
    "\n",
    "# (c), area = 3(2) * 3(0.5) = 9\n",
    "ax.add_patch(Rectangle(\n",
    "    xy=(3.5, 3.5),\n",
    "    width=2*3,\n",
    "    height=0.5*3))\n",
    "plt.annotate('(c)', (3.5,3.5))\n",
    "\n",
    "# (d), area = 0.5(2) * 0.5(0.5) = 0.25\n",
    "ax.add_patch(Rectangle(\n",
    "    xy=(6, 6),\n",
    "    width=2*0.5,\n",
    "    height=0.5*0.5))\n",
    "plt.annotate('(c)', (6,6))"
   ],
   "metadata": {
    "collapsed": false,
    "pycharm": {
     "name": "#%%\n"
    }
   }
  },
  {
   "cell_type": "markdown",
   "source": [
    "### 2\n",
    "\n",
    "a) Draw a rectangle whose sides have length \\frac{2}{3} in. and 2 in. respectively.  What is the area of this rectangle?  Draw the rectangle whose sides have lengths equal to:\n",
    "b) twice,\n",
    "c) three times,\n",
    "d) half the lengths of the sides of the rectangle in part (a).  In each case, what is the area of the rectangle?\n",
    "e) Suppose that a rectangle has an area equal to 15\\text{in}^2.  Dilate the rectangle by 2.  What is the area of the dilated rectangle.\n",
    "f) If a rectangle has an area equal to 25\\text{in}^2, what is the area of the rectangle whose sides have lengths equal to one-fifth the lengths of the original rectangle."
   ],
   "metadata": {
    "collapsed": false,
    "pycharm": {
     "name": "#%% md\n"
    }
   }
  },
  {
   "cell_type": "code",
   "execution_count": 4,
   "outputs": [
    {
     "data": {
      "text/plain": "Text(10, 10, '(d)')"
     },
     "execution_count": 4,
     "metadata": {},
     "output_type": "execute_result"
    },
    {
     "data": {
      "text/plain": "<Figure size 360x360 with 1 Axes>",
      "image/png": "[encoded data removed]"
     },
     "metadata": {
      "needs_background": "light"
     },
     "output_type": "display_data"
    }
   ],
   "source": [
    "fig, ax = plt.subplots(figsize=(5, 5))\n",
    "\n",
    "plt.gca().set_aspect('equal')\n",
    "plt.xlim([0, 25])\n",
    "plt.ylim([0, 25])\n",
    "\n",
    "# (a), area = 2/3 * 2 = 4/3\n",
    "ax.add_patch(Rectangle(\n",
    "    xy=(1, 1),\n",
    "    width=2/3,\n",
    "    height=2))\n",
    "plt.annotate('(a)', (1,1))\n",
    "\n",
    "# (b), area = 2(2/3) * 2(2) = 16/3\n",
    "ax.add_patch(Rectangle(\n",
    "    xy=(2, 2),\n",
    "    width=2*2/3,\n",
    "    height=2*2))\n",
    "plt.annotate('(b)', (2,2))\n",
    "\n",
    "# (c), area = 3(2/3) * 3(2) = 36/3 = 12\n",
    "ax.add_patch(Rectangle(\n",
    "    xy=(3.5, 3.5),\n",
    "    width=3*2/3,\n",
    "    height=3*2))\n",
    "plt.annotate('(c)', (3.5,3.5))\n",
    "\n",
    "# (d), area = 1/2(2/3) * 1/2(2) = 1/6\n",
    "ax.add_patch(Rectangle(\n",
    "    xy=(6, 6),\n",
    "    width=1/2*2/3,\n",
    "    height=1/2*2))\n",
    "plt.annotate('(c)', (6,6))\n",
    "\n",
    "# (e), area = 2^2 * 15 = 60\n",
    "ax.add_patch(Rectangle(\n",
    "    xy=(6, 6),\n",
    "    width=3,\n",
    "    height=5))\n",
    "plt.annotate('(d)', (7,7))\n",
    "\n",
    "ax.add_patch(Rectangle(\n",
    "    xy=(10, 10),\n",
    "    width=2 * 3,\n",
    "    height=2 * 5))\n",
    "plt.annotate('(d)', (10,10))"
   ],
   "metadata": {
    "collapsed": false,
    "pycharm": {
     "name": "#%%\n"
    }
   }
  },
  {
   "cell_type": "markdown",
   "source": [
    "f) $(\\frac{1}{5})^2 \\cdot 25 = 1$.  The general rule here is that dilation of a rectangle by $r$ scales its area by $r^2$."
   ],
   "metadata": {
    "collapsed": false,
    "pycharm": {
     "name": "#%% md\n"
    }
   }
  },
  {
   "cell_type": "markdown",
   "source": [
    "### 3\n",
    "\n",
    "a) Suppose that the sides of a rectangle $S$ have lengths $r$ and $s$. What are the lengths of the sides of the rectangle $F_{a,b}(S)$, i.e. of the rectangle obtained by the mixed dilation $F_{a,b}$.\n",
    "b) What is the volume of $F_{a,b}(S)$?\n",
    "c) If $S$ is a bounded region in the plane with volume $V$, what is the volume of $F_a,b(S)$?\n",
    "\n",
    "---\n",
    "\n",
    "a) The dilated rectangle has sides $ar$ and $bs$.\n",
    "b) $0$, because a rectangle doesn't have volume (Is this a trick question? A mistake?  Is \"What is the volume of a rectangle?\" a valid question to ask?)\n",
    "c) Again, $0$ because volume isn't a property of a bounded region in the two-dimensional plane."
   ],
   "metadata": {
    "collapsed": false,
    "pycharm": {
     "name": "#%% md\n"
    }
   }
  },
  {
   "cell_type": "markdown",
   "source": [
    "### 4\n",
    "\n",
    "a) Show that the set of points $(u, v)$ satisfying the equation\n",
    "\n",
    "$$(\\frac{u}{a})^2 + (\\frac{v}{b})^2 = 1$$\n",
    "\n",
    "is the image of the circle of radius $1$ centered at $0$ under the map $F_{a,b}$.\n",
    "\n",
    "---\n",
    "\n",
    "The circle of radius $1$ centered at $O$ has the equation\n",
    "\n",
    "$$u^2 + v^2 = 1$$\n",
    "\n",
    "and is known as the unit circle.\n",
    "\n",
    "We can consider the effects of each component of the dilation separately because $F_{a, b} = F_{a, 1} \\circ F_{1, b} = F_{1, b} \\circ F_{a, 1}$.\n",
    "\n",
    "First, consider $F_{a, 1}$, the dilation of the unit circle in the $u$-direction by $a$.\n",
    "\n",
    "$$\n",
    "u^2 + v^2 = 1 \\\\\n",
    "u^2 = 1 - v^2 \\\\\n",
    "u = \\sqrt{1 - v^2}\n",
    "$$\n",
    "\n",
    "Having isolated the $u$ component of the circle, we can dilate it and then rearrange back into the standard form for the equation of a circle.\n",
    "\n",
    "$$\n",
    "u = a\\sqrt{1 - v^2} \\\\\n",
    "u^2 = a^2(1 - v^2) \\\\\n",
    "\\frac{u^2}{a^2} = 1 - v^2 \\\\\n",
    "(\\frac{u}{a})^2 + v^2 = 1\n",
    "$$\n",
    "\n",
    "Second, consider $F_{1, b}$.  Isolate the $v$ component...\n",
    "\n",
    "$$\n",
    "v^2 = 1 - (\\frac{u}{a})^2 \\\\\n",
    "v = \\sqrt{1 - (\\frac{u}{a})^2}\n",
    "$$\n",
    "\n",
    "...then dilate in the $v$-direction by $b$:\n",
    "\n",
    "$$\n",
    "v = b \\sqrt{1 - (\\frac{u}{a})^2} \\\\\n",
    "v^2 = b^2(1 - (\\frac{u}{a})^2) \\\\\n",
    "\\frac{v^2}{b^2} = 1 - (\\frac{u}{a})^2 \\\\\n",
    "(\\frac{v}{b})^2 = 1 - (\\frac{u}{a})^2 \\\\\n",
    "(\\frac{u}{a})^2) + (\\frac{v}{b})^2 = 1\n",
    "$$\n",
    "\n",
    "We have shown that applying the map $F_{a, b}$ to the unit circle produces a circle with the equation\n",
    "\n",
    "$$(\\frac{u}{a})^2) + (\\frac{v}{b})^2 = 1$$\n",
    "\n",
    "Therefore, this equation is the image of the unit circle under the map $F_{a, b}$."
   ],
   "metadata": {
    "collapsed": false,
    "pycharm": {
     "name": "#%% md\n"
    }
   }
  },
  {
   "cell_type": "code",
   "execution_count": 114,
   "outputs": [
    {
     "data": {
      "text/plain": "<matplotlib.collections.PathCollection at 0x7faa3b097ca0>"
     },
     "execution_count": 114,
     "metadata": {},
     "output_type": "execute_result"
    },
    {
     "data": {
      "text/plain": "<Figure size 432x288 with 1 Axes>",
      "image/png": "[encoded data removed]"
     },
     "metadata": {
      "needs_background": "light"
     },
     "output_type": "display_data"
    }
   ],
   "source": [
    "from lib.circle import circle\n",
    "\n",
    "plt.gca().set_aspect('equal')\n",
    "plt.xlim([-100, 100])\n",
    "plt.ylim([-100, 100])\n",
    "\n",
    "plt.scatter(*zip(*circle(50, (10,10))), s=0.1)"
   ],
   "metadata": {
    "collapsed": false,
    "pycharm": {
     "name": "#%%\n"
    }
   }
  },
  {
   "cell_type": "code",
   "execution_count": null,
   "outputs": [],
   "source": [],
   "metadata": {
    "collapsed": false,
    "pycharm": {
     "name": "#%%\n"
    }
   }
  }
 ],
 "metadata": {
  "kernelspec": {
   "display_name": "Python 3",
   "language": "python",
   "name": "python3"
  },
  "language_info": {
   "codemirror_mode": {
    "name": "ipython",
    "version": 2
   },
   "file_extension": ".py",
   "mimetype": "text/x-python",
   "name": "python",
   "nbconvert_exporter": "python",
   "pygments_lexer": "ipython2",
   "version": "2.7.6"
  }
 },
 "nbformat": 4,
 "nbformat_minor": 0
}