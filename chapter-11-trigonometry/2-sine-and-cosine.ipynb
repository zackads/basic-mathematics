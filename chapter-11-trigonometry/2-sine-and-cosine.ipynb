{
 "cells": [
  {
   "cell_type": "code",
   "execution_count": 118,
   "outputs": [],
   "source": [
    "from lib.lines import line\n",
    "from lib.trigonometry import sine, cosine, pi_approx\n",
    "from lib.points import points\n",
    "from matplotlib import pyplot as plt"
   ],
   "metadata": {
    "collapsed": false,
    "pycharm": {
     "name": "#%%\n"
    }
   }
  },
  {
   "cell_type": "markdown",
   "source": [
    "# §2 - Sine and cosine\n",
    "\n",
    "[https://www.docdroid.net/K1VENuF/basic-mathematics-serge-lang-pdf#page=268]()\n",
    "\n",
    "## The big ideas\n",
    "\n",
    "### Definitions\n",
    "\n",
    "We define sine and cosine on the Cartesian plane using coordinates."
   ],
   "metadata": {
    "collapsed": false,
    "pycharm": {
     "name": "#%% md\n"
    }
   }
  },
  {
   "cell_type": "code",
   "execution_count": 119,
   "outputs": [
    {
     "data": {
      "text/plain": "Text(70, 17.5, 'b')"
     },
     "execution_count": 119,
     "metadata": {},
     "output_type": "execute_result"
    },
    {
     "data": {
      "text/plain": "<Figure size 432x288 with 1 Axes>",
      "image/png": "[encoded data removed]"
     },
     "metadata": {
      "needs_background": "light"
     },
     "output_type": "display_data"
    }
   ],
   "source": [
    "a, b = 65, 35\n",
    "ray = line((0,0), (a,b), lower=0, upper=1.5)\n",
    "vertical = line((a, 0), (0, b), lower=0, upper=1, n=25)\n",
    "x_axis = line((0,0), (1,0), lower=0)\n",
    "\n",
    "plt.plot(*(a, b), 'o', color='r')\n",
    "plt.scatter(*zip(*ray))\n",
    "plt.scatter(*zip(*vertical))\n",
    "plt.scatter(*zip(*x_axis))\n",
    "\n",
    "plt.annotate('P = (a, b)', (a, b))\n",
    "plt.annotate('A', (15, 3))\n",
    "plt.annotate('r', (30, 20))\n",
    "plt.annotate('b', (a + 5, b / 2))"
   ],
   "metadata": {
    "collapsed": false,
    "pycharm": {
     "name": "#%%\n"
    }
   }
  },
  {
   "cell_type": "markdown",
   "source": [
    "We choose to define the sine function as\n",
    "\n",
    "$$\n",
    "\\sin(A) = \\frac{b}{r}\n",
    "$$\n",
    "\n",
    "And the cosine function as\n",
    "\n",
    "$$\n",
    "\\cos(A) = \\frac{a}{r}\n",
    "$$\n",
    "\n",
    "Interestingly, not only can we define the sine and cosine in terms of coordinates, we can also _define coordinates in terms of sine and cosine_.\n",
    "\n",
    "Instead of $(a, b)$ in the diagram above, we could say point $P$ is at\n",
    "\n",
    "$$\n",
    "(r \\cos(A), r \\sin(A))\n",
    "$$\n",
    "\n",
    "Thinking of the sine and cosine as coordinates on the unit circle is much more powerful than just thinking of the functions as acute angles inside right triangles, because it allows us to consider values of $x < 0$ and $x > 2 \\pi$.  Which comes in handy when using sinusoidal functions to model real-world phenomena that have nothing to do with triangles but everything to do with periodicity (e.g. rush hour traffic peaking twice a day, daily average temperatures over the course of a year).\n",
    "\n",
    "###  Why is $\\cos(x)$ \"ahead\" of $\\sin(x)$ by $\\frac{\\pi}{2}$?\n",
    "\n",
    "Lang gives us a proof for\n",
    "\n",
    "$$\n",
    "\\cos x = \\sin(x + \\frac{\\pi}{2}) \\ \\ \\ \\text{and} \\ \\ \\ \\sin x = \\cos(x - \\frac{\\pi}{2})\n",
    "$$\n",
    "\n",
    "So, given a point $P$ on the unit circle,\n",
    "\n",
    "$$\n",
    "P = ( \\cos x, \\sin{x}) = ( \\sin{x + \\frac{\\pi}{2}, \\cos{x - \\frac{\\pi}{2}\\ )\n",
    "$$\n",
    "\n",
    "And we could go on and show the same is true for subsequent rotations.\n",
    "\n",
    "This shouldn't surprise us.\n",
    "\n",
    "We know that $\\frac{\\pi}{2}$ is a right angle by definition.\n",
    "\n",
    "So $+ \\frac{\\pi}{2}$ is a **rotation** in the positive direction by a right angle.\n",
    "\n",
    "And we know rotation is an **isometry** that **preserves distance**.\n",
    "\n",
    "So the triangles created within the unit circle by $x$ and $x + \\frac{\\pi}{2}$ are **congruent** and we would expect the relationship between their side lengths to remain constant.\n",
    "\n",
    "### Polar coordinates\n",
    "\n",
    "Polar coordinates are introduced but not a great deal of fuss is made about them."
   ],
   "metadata": {
    "collapsed": false,
    "pycharm": {
     "name": "#%% md\n"
    }
   }
  },
  {
   "cell_type": "markdown",
   "source": [
    "## Exercises\n",
    "\n",
    "_Completed using pen and paper_.\n",
    "\n",
    "---"
   ],
   "metadata": {
    "collapsed": false,
    "pycharm": {
     "name": "#%% md\n"
    }
   }
  }
 ],
 "metadata": {
  "kernelspec": {
   "display_name": "Python 3",
   "language": "python",
   "name": "python3"
  },
  "language_info": {
   "codemirror_mode": {
    "name": "ipython",
    "version": 2
   },
   "file_extension": ".py",
   "mimetype": "text/x-python",
   "name": "python",
   "nbconvert_exporter": "python",
   "pygments_lexer": "ipython2",
   "version": "2.7.6"
  }
 },
 "nbformat": 4,
 "nbformat_minor": 0
}