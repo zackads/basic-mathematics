{
 "cells": [
  {
   "cell_type": "code",
   "execution_count": 31,
   "outputs": [],
   "source": [
    "import unittest\n",
    "\n",
    "from lib.trigonometry import rad, deg"
   ],
   "metadata": {
    "collapsed": false,
    "pycharm": {
     "name": "#%%\n"
    }
   }
  },
  {
   "cell_type": "markdown",
   "source": [
    "# §1 - Radian measure\n",
    "\n",
    "[https://www.docdroid.net/K1VENuF/basic-mathematics-serge-lang-pdf#page=265]()\n",
    "\n",
    "## The big ideas\n",
    "\n",
    "### Measurement\n",
    "\n",
    "When we use any unit of measure to describe something else, we're comparing two quantities.  If I measure a piece of wood and find it is 1.5 metres long, I'm expressing a relationship between the length property of the wood and _something else_ that we call \"metres\".\n",
    "\n",
    "\"1.5 metres\" is _not_ a property intrinsic to the wood I'm measuring.\n",
    "\n",
    "Instead, when we say \"the length of this wood is 1.5 metres\", what we're really saying is \"the ratio of the length of this wood to the unit metre is 1.5\".\n",
    "\n",
    "### Radians\n",
    "\n",
    "Degrees are an arbitrary and not very useful measurement of angles.  They're not _related_ to anything else about the circle in a meaningful way, which means they're not very useful in calculations and they're less intuitive than they could be.\n",
    "\n",
    "Instead, let's use a new unit measure: the **radian**.\n",
    "\n",
    "$1 \\text{rad.}$ is the size of the angle subtended by an arc equal in length to the circle's radius.\n",
    "\n",
    "### Conversion\n",
    "\n",
    "I'd previously learned that you convert radians to degrees by multiplying by \\frac{180}{\\pi} and from degrees to radians by multiplying by \\frac{\\pi}{180}.  But that hides the _underlying ratio_ between degrees and radians and relies on memorising something that isn't intuitive (why is half a circle relevant?).\n",
    "\n",
    "When we convert $d$ degrees to $r$ radians, we're saying that \"$d$ is to $360$ as $r$ is to $2\\pi$\".\n",
    "\n",
    "Or, symbolically:\n",
    "\n",
    "$$\n",
    "\\frac{d}{360} = \\frac{r}{2\\pi}\n",
    "$$\n",
    "\n",
    "Which we can re-arrange to\n",
    "\n",
    "$$\n",
    "r = \\frac{d}{360} \\cdot 2\\pi\n",
    "$$\n",
    "\n",
    "Which, in words, says \"r is $d$ $360$ths of 2\\pi\".\n",
    "\n",
    "Converting from degrees to radians is similar.\n",
    "\n",
    "Key takeaway: intuition is important.  Prefer to think about procedures like this in terms of the underlying relationships and structure."
   ],
   "metadata": {
    "collapsed": false,
    "pycharm": {
     "name": "#%% md\n"
    }
   }
  },
  {
   "cell_type": "markdown",
   "source": [
    "### Exercises\n",
    "\n",
    "1. Give the following values of angle in radians, as a fractional multiple of $\\pi$.\n",
    "a) 15\n",
    "b) 75\n",
    "c) 105\n",
    "d) 120\n",
    "e) 135\n",
    "f) 150\n",
    "g) 165"
   ],
   "metadata": {
    "collapsed": false,
    "pycharm": {
     "name": "#%% md\n"
    }
   }
  },
  {
   "cell_type": "code",
   "execution_count": 32,
   "outputs": [
    {
     "name": "stderr",
     "output_type": "stream",
     "text": [
      "test (__main__.Exercise1) ... ok\n",
      "test (__main__.Exercise2) ... ok\n",
      "test (__main__.Exercise3) ... ok\n",
      "test_deg (__main__.TrigonometryTests) ... ok\n",
      "\n",
      "----------------------------------------------------------------------\n",
      "Ran 4 tests in 0.008s\n",
      "\n",
      "OK\n"
     ]
    },
    {
     "data": {
      "text/plain": "<unittest.main.TestProgram at 0x7f82dd2ae070>"
     },
     "execution_count": 32,
     "metadata": {},
     "output_type": "execute_result"
    }
   ],
   "source": [
    "class Exercise1(unittest.TestCase):\n",
    "    def test(self):\n",
    "        pi = 3.14159265\n",
    "        self.assertAlmostEqual(rad(15), pi / 12) # (a)\n",
    "        self.assertAlmostEqual(rad(75), (5 * pi) / 12) # (b)\n",
    "        self.assertAlmostEqual(rad(105), 7 * pi / 12) # (c)\n",
    "        self.assertAlmostEqual(rad(120), 2 / 3 * pi) # (d)\n",
    "        self.assertAlmostEqual(rad(135), 3 / 4 * pi) # (e)\n",
    "        self.assertAlmostEqual(rad(150), 5 / 6 * pi) # (f)\n",
    "        self.assertAlmostEqual(rad(165), 11 / 12 * pi) # (g)\n",
    "\n",
    "unittest.main(argv=[''], verbosity=2, exit=False)"
   ],
   "metadata": {
    "collapsed": false,
    "pycharm": {
     "name": "#%%\n"
    }
   }
  },
  {
   "cell_type": "markdown",
   "source": [
    "## 2\n",
    "\n",
    "Same question in the following cases\n",
    "\n",
    "a) 20\n",
    "b) 40\n",
    "c) 140\n",
    "d) 310"
   ],
   "metadata": {
    "collapsed": false,
    "pycharm": {
     "name": "#%% md\n"
    }
   }
  },
  {
   "cell_type": "code",
   "execution_count": 33,
   "outputs": [
    {
     "name": "stderr",
     "output_type": "stream",
     "text": [
      "test (__main__.Exercise1) ... ok\n",
      "test (__main__.Exercise2) ... ok\n",
      "test (__main__.Exercise3) ... ok\n",
      "test_deg (__main__.TrigonometryTests) ... ok\n",
      "\n",
      "----------------------------------------------------------------------\n",
      "Ran 4 tests in 0.011s\n",
      "\n",
      "OK\n"
     ]
    },
    {
     "data": {
      "text/plain": "<unittest.main.TestProgram at 0x7f82dd299580>"
     },
     "execution_count": 33,
     "metadata": {},
     "output_type": "execute_result"
    }
   ],
   "source": [
    "class Exercise2(unittest.TestCase):\n",
    "    def test(self):\n",
    "        pi = 3.14159265\n",
    "        self.assertAlmostEqual(rad(20), pi / 9) # (h)\n",
    "        self.assertAlmostEqual(rad(40), 2 * pi / 9) # (i)\n",
    "        self.assertAlmostEqual(rad(140), 7 * pi / 9) # (j)\n",
    "        self.assertAlmostEqual(rad(310), 31 * pi / 18) # (k)\n",
    "\n",
    "unittest.main(argv=[''], verbosity=2, exit=False)"
   ],
   "metadata": {
    "collapsed": false,
    "pycharm": {
     "name": "#%%\n"
    }
   }
  },
  {
   "cell_type": "markdown",
   "source": [
    "### 3\n",
    "\n",
    "Find the measure in degrees (between 0 and 360) for the following angles given in radians.\n",
    "\n",
    "a) $-\\frac{\\pi}{4}$\n",
    "b) $\\frac{8 \\pi}{9}$\n",
    "c) $\\frac{5 \\pi}{9}$\n",
    "d) $\\frac{7 \\pi}{4}$\n",
    "e) $\\frac{14 \\pi}{3}$\n",
    "f) $\\frac{22 \\pi}{3}$\n",
    "g) $- \\frac{\\pi}{3}$"
   ],
   "metadata": {
    "collapsed": false,
    "pycharm": {
     "name": "#%% md\n"
    }
   }
  },
  {
   "cell_type": "code",
   "execution_count": 34,
   "outputs": [
    {
     "name": "stderr",
     "output_type": "stream",
     "text": [
      "test (__main__.Exercise1) ... ok\n",
      "test (__main__.Exercise2) ... ok\n",
      "test (__main__.Exercise3) ... ok\n",
      "test_deg (__main__.TrigonometryTests) ... ok\n",
      "\n",
      "----------------------------------------------------------------------\n",
      "Ran 4 tests in 0.008s\n",
      "\n",
      "OK\n"
     ]
    },
    {
     "data": {
      "text/plain": "<unittest.main.TestProgram at 0x7f82dd299070>"
     },
     "execution_count": 34,
     "metadata": {},
     "output_type": "execute_result"
    }
   ],
   "source": [
    "class Exercise3(unittest.TestCase):\n",
    "    def test(self):\n",
    "        pi = 3.14159265\n",
    "        self.assertAlmostEqual(deg(pi / 4), 45)\n",
    "        self.assertAlmostEqual(deg(- pi / 4), -45)\n",
    "        self.assertAlmostEqual(deg(8 * pi / 9), 160)\n",
    "        self.assertAlmostEqual(deg(5 * pi / 9), 100)\n",
    "        self.assertAlmostEqual(deg(7 * pi / 4), 315)\n",
    "        self.assertAlmostEqual(deg(14 * pi / 3), 840)\n",
    "        self.assertAlmostEqual(deg(22 * pi / 3), 1320)\n",
    "        self.assertAlmostEqual(deg(- pi / 3), -60)\n",
    "\n",
    "unittest.main(argv=[''], verbosity=2, exit=False)"
   ],
   "metadata": {
    "collapsed": false,
    "pycharm": {
     "name": "#%%\n"
    }
   }
  }
 ],
 "metadata": {
  "kernelspec": {
   "display_name": "Python 3",
   "language": "python",
   "name": "python3"
  },
  "language_info": {
   "codemirror_mode": {
    "name": "ipython",
    "version": 2
   },
   "file_extension": ".py",
   "mimetype": "text/x-python",
   "name": "python",
   "nbconvert_exporter": "python",
   "pygments_lexer": "ipython2",
   "version": "2.7.6"
  }
 },
 "nbformat": 4,
 "nbformat_minor": 0
}