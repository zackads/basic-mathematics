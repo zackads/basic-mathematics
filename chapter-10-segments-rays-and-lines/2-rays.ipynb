{
 "cells": [
  {
   "cell_type": "markdown",
   "source": [
    "### Rays\n",
    "\n",
    "A ray is like a vector but with only one limit, at its vertex.  The other side is infinite.  In Lang's analytic definition, a ray is the set of all points\n",
    "\n",
    "$$P + tA$$\n",
    "\n",
    "for points $P$ and $A$, and $t \\geq 0$.\n",
    "\n",
    "(The concept of (1) translate to the origin (2) perform transformation (3) translate back crops up here too.)\n",
    "\n",
    "### Direction\n",
    "\n",
    "We can use geometric intuition to tell whether two lines/vectors/rays/other directed objects have the same direction, but an analytic definition gives us certainty (as well as allowing us to operate in dimensions we can't visualise!)\n",
    "\n",
    "Lang gives an analytic definition of the direction of located vectors as one being the scalar multiple of the other:\n",
    "\n",
    "$$Q - P = c(N - M)$$\n",
    "\n",
    "for two vectors $\\vec{PQ}$ and $\\vec{MN}$."
   ],
   "metadata": {
    "collapsed": false,
    "pycharm": {
     "name": "#%% md\n"
    }
   }
  },
  {
   "cell_type": "markdown",
   "source": [
    "## Exercises\n",
    "\n",
    "Let $P$, $Q$ be the indicated points.  Give the coordinates of the point\n",
    "\n",
    "a) halfway,\n",
    "   b) one-third of the way,\n",
    "                       c) two-thirds of the way\n",
    "\n",
    "between $P$ and $Q$.\n",
    "\n",
    "### 1\n",
    "\n",
    "$P = (1, 5), Q = (3, -1)$\n",
    "\n",
    "a) $(2,2)$\n",
    "b) $(\\frac{5}{3}, 3)$\n",
    "c) $(\\frac{7}{3}, 1)$\n",
    "\n",
    "### 2\n",
    "\n",
    "$P = (2, 4), Q = (3, 7)$\n",
    "\n",
    "a) $(\\frac{5}{2}, \\frac{11}{2})$\n",
    "b) $(\\frac{7}{3}, 5)$\n",
    "c) $(\\frac{8}{3}, 6)$\n",
    "\n",
    "### 3\n",
    "\n",
    "$P = (-3, -2), Q = (-4, 5)$\n",
    "\n",
    "a) $(-\\frac{5}{2}, \\frac{3}{2})$\n",
    "b) $(-\\frac{8}{3}, \\frac{1}{3})$\n",
    "c) $(-\\frac{7}{3}, -\\frac{5}{3})$\n",
    "\n",
    "### 4\n",
    "\n",
    "$P = (-5, -1), Q = (4, 6)$\n",
    "\n",
    "a) $(-\\frac{1}{2}, \\frac{5}{2})$\n",
    "b) $(-2, \\frac{4}{3})$\n",
    "c) $(-1, \\frac{11}{3})$"
   ],
   "metadata": {
    "collapsed": false,
    "pycharm": {
     "name": "#%% md\n"
    }
   }
  },
  {
   "cell_type": "markdown",
   "source": [
    "### 5\n",
    "\n",
    "Prove that the image of the line segment $\\overline{PQ}$ under translation $T_A$ is also a line segment.  What are the end points of this image?\n",
    "\n",
    "---\n",
    "\n",
    "_Can we examine this in more detail?  I couldn't get the proof, and when I look at the answer in the [back of the book](https://www.docdroid.net/K1VENuF/basic-mathematics-serge-lang-pdf#page=470) I think \"How was I supposed to get that?\"_\n",
    "\n",
    "Rough working:\n",
    "\n",
    "Let $M = Q - P$.  Therefore\n",
    "\n",
    "$$\\overline{PQ} = P + tM$$\n",
    "\n",
    "for $0 \\leq t \\leq 1$ by the definition of a line segment.\n",
    "\n",
    "$$\n",
    "T_A(PQ) = P + tM + A\n",
    "= ?\n",
    "$$\n",
    "\n",
    "We can now apply the transformation $T_A$ to both sides\n",
    "\n",
    "$$T_A(\\overline{PQ}) = T_A(P + tM)$$\n",
    "\n",
    "so every point on the image has been translated by $T_A$.\n",
    "\n",
    "This means $P$ and $Q$ have also been translated by $T_A$ such that\n",
    "\n",
    "$$\n",
    "T_A(P) = P + A \\\n",
    "    T_A(Q) = Q + A\n",
    "$$\n",
    "\n",
    "$$P + A + t(M + A)$$\n",
    "\n",
    "But how to show that ever point between $T_A(P)$ and $T_A(Q)$ comprises the line segment $\\overline{T_A(P)T_A(Q)}$?"
   ],
   "metadata": {
    "collapsed": false,
    "pycharm": {
     "name": "#%% md\n"
    }
   }
  },
  {
   "cell_type": "markdown",
   "source": [
    "Let $P$, $Q$, $M$ be the indicated points.  In Exercises 6 through 9, find the point $N$ such that $\\vec{PQ}$ has the same direction as $\\vec{MN}$ and such that the length of $\\vec{MN}$ is\n",
    "\n",
    "a) 3 times the length of $\\vec{PQ}$\n",
    "b) one-third the length of $\\vec{PQ}$"
   ],
   "metadata": {
    "collapsed": false,
    "pycharm": {
     "name": "#%% md\n"
    }
   }
  },
  {
   "cell_type": "markdown",
   "source": [
    "### 6\n",
    "\n",
    "$P = (1, 4)$, $Q = (1, -5)$, $M = (-2, 3)$\n",
    "\n",
    "---\n",
    "a)\n",
    "b)"
   ],
   "metadata": {
    "collapsed": false,
    "pycharm": {
     "name": "#%% md\n"
    }
   }
  },
  {
   "cell_type": "markdown",
   "source": [
    "### 7\n",
    "\n",
    "$P = (-1, -1)$, $Q = (3, -2)$, $M = (4, 4)$\n",
    "\n",
    "---\n",
    "a)\n",
    "b)"
   ],
   "metadata": {
    "collapsed": false,
    "pycharm": {
     "name": "#%% md\n"
    }
   }
  },
  {
   "cell_type": "markdown",
   "source": [
    "### 8\n",
    "\n",
    "$P = (1, -2)$, $Q = (5, 2)$, $M = (-4, 3)$\n",
    "\n",
    "---\n",
    "a)\n",
    "b)"
   ],
   "metadata": {
    "collapsed": false,
    "pycharm": {
     "name": "#%% md\n"
    }
   }
  },
  {
   "cell_type": "markdown",
   "source": [
    "### 9\n",
    "\n",
    "$P = (-1, 3)$, $Q = (\\frac{1}{2}, 4)$, $M = (\\frac{1}{3}, -1)$\n",
    "\n",
    "---\n",
    "a)\n",
    "b)"
   ],
   "metadata": {
    "collapsed": false,
    "pycharm": {
     "name": "#%% md\n"
    }
   }
  },
  {
   "cell_type": "markdown",
   "source": [
    "### 10\n",
    "\n",
    "Let $F$ be\n",
    "\n",
    "a) translation $T_A$\n",
    "b) reflection through $O$\n",
    "c) reflection through the $x$-axis\n",
    "d) reflection through the $y$-axis\n",
    "e) dilation by a number $r > 0$\n",
    "\n",
    "In each of these cases, prove that the image under $F$ of (i) a segment, (ii) a ray, is again (i) a segment, (ii) a ray, respectively.  Thus you really have 10 cases to consider $(10 = 5 \\cdot 2)$, but they are all easy.\n",
    "\n",
    "---\n",
    "\n",
    "a) translation $T_A$\n",
    "    i.  **Line segment**.  Let $\\overline{PQ}$ be a line segment.  Let $M = Q - P$.\n",
    "    Therefore, $\\overline{PQ} = P + tM$ for all $0 \\leq t \\leq 1$ by the analytic definition of a line segment.\n",
    "    We can re-write the definition of the line segment as a composition of a dilation by $t$ and a translation by $M$: $\\overline{PQ} = P + tM = (T_M \\circ D_t)(P)$ for $0 \\lt t \\leq 1$.\n",
    "    When we apply $F$, the translation by $A$, we have $T_A(\\overline{PQ}) = (T_A \\circ T_M \\circ D_t)(P)$ for $0 \\lt t \\leq 1$.\n",
    "    We know the composition of two translations is itself a translation by some point, let's call that $S$ such that $T_A \\circ T_M = T_S$.\n",
    "    Thus, $T_A(\\overline{PQ}) = (T_S \\circ D_t)(P)$ for $0 \\lt t \\leq 1$.\n",
    "    We see that this can be written in the arithmetic form: $T_A(\\overline{PQ}) = T_S(P) + tM$ for $0 \\lt t \\leq 1$.  We see that this is in the form of the analytic definition of a line segment, and so the image under $F$ of $\\overline{PQ}$ is itself a line segment and the theorem is proved.\n",
    "    ii. **Ray**.  As the analytic definition of a ray is similar to the analytic definition of a line segment, but for $t \\geq 0$ instead of $0 \\leq t \\leq 1$, the argument in (i) applies: express the ray as a composition of mappings, apply $T_A$, consolidate the two outer transformations into one and find that the result is a ray by definition.\n",
    "b) reflection through $O$\n",
    "    i.  **Line segment**.  Let $\\overline{PQ}$ be a line segment.  Let $M = Q - P$.\n",
    "    Therefore, $\\overline{PQ} = P + tM$ for all $0 \\leq t \\leq 1$ by the analytic definition of a line segment.\n",
    "    Applying $F$, we find $-\\overline{PQ} = -(P + tM)$\n",
    "    $= -P + (-tM)$ by the distributive property of multiplication over addition.\n",
    "    $= (-P) + (-t)M$ by the associative property.\n",
    "    Which is in the form of the analytic definition of a line segment, so the image under $F$ of $\\overline{PQ}$ is itself a line segment. _(Am I relying too heavily on this argument?)_\n",
    "    ii. **Ray**.  As for line segments but for all $t \\geq 0$. _(Feel I'm missing something)_\n",
    "c) reflection through the x-axis\n",
    "    i.  **Line segment**.  Using the analytic definition of the line segment $\\overline{PQ} = P + tM$ for all $0 \\leq t \\leq 1$ and $M = Q - P$ as before.\n",
    "    We could use the big idea from a previous chapter of translating everything to the origin, then reflecting in the origin, and then translating back again.  This would let us use the same proof as the previous two answers.  But instead, let's try unpacking the points into their constituent coordinates so we can  change the sign of the $y$-coordinate for the reflection.\n",
    "    Let $N$ be any point on the line segment $\\overline{PQ}$ with coordinates $(x, y)$.\n",
    "    Under reflection in the $x$-axis, $F(N) = N' = (x, -y)$.\n",
    "    So we can say that $\\overline{P, Q} = (P_x, P_y) + t(M_x, M_y)$.\n",
    "    And $F(\\overline(P, Q) = F((P_x, -P_y) + t(M_x, M_y)) = (P_x, -P_y) + t(M_x, -M_y)$. _(Uneasy about this -- I think this is a bit of a leap.  Does $F$ really have the distributive property over addition???)_\n",
    "    Again, we can see this is in the form of the sum of a point P with a dilated point M.  Therefore $F(\\overline(P, Q))$ is, by definition, a line segment. _(Again, relying very heavily on the logic of 'get it into the form of the definition'.  Lang doesn't provide anything in the answer book.  Is there a simpler/more elegent way?)_\n",
    "    ii.  **Ray**.  As for line segments but for all $t \\geq 0$.\n",
    "d) reflection through the y-axis.   Apply the coordinate-wise argument above, but for the transformation $(P_x, P_y) \\mapsto (-P_x, P_y)$ for some point $P$, for both segments and rays.\n",
    "e) dilation by a number $r > 0$.\n",
    "    i.  **Line segment**.  Dilation by $r$ is the scalar multiplication of a point by $r$. So the dilation of a line segment is the scalar multiplication of all its points by $r$.\n",
    "    Let $\\overline{PQ}$ be a line segment.  Let $M = Q - P$.\n",
    "    Therefore, $\\overline{PQ} = P + tM$ for all $0 \\leq t \\leq 1$ by the analytic definition of a line segment.\n",
    "    $F(\\overline{PQ}) = r(P + tM) = rP + t(rM)$\n",
    "    Which again is the definition of a line segment, so the image of the line segment $\\overline{PQ}$ is also a line segment under the dilation $F$.\n",
    "    ii. **Ray**.  The same argument applies as using the analytic definition of a line segment, but for $t \\geq 0$.\n",
    "\n",
    "\n",
    "\n",
    "\n",
    "\n",
    "\n"
   ],
   "metadata": {
    "collapsed": false,
    "pycharm": {
     "name": "#%% md\n"
    }
   }
  },
  {
   "cell_type": "markdown",
   "source": [
    "### 11\n",
    "\n",
    "After you have read the definition of a straight line in the next section, prove that the image under F of a straight line is again a straight line. \\[Here F is any one of the mappings in Exercise 10.\\]\n",
    "\n",
    "---"
   ],
   "metadata": {
    "collapsed": false,
    "pycharm": {
     "name": "#%% md\n"
    }
   }
  },
  {
   "cell_type": "markdown",
   "source": [
    "### 12\n",
    "\n",
    "Give a definition for two located vectors to have **opposite direction**.  Similarly, if A \\neq O and B \\neq O, give a definition for A and B to have opposite direction.  Draw the corresponding pictures.\n",
    "\n",
    "---"
   ],
   "metadata": {
    "collapsed": false,
    "pycharm": {
     "name": "#%% md\n"
    }
   }
  },
  {
   "cell_type": "markdown",
   "source": [
    "**The 3-dimensional case**\n",
    "\n",
    "Give the definition for a segment, a ray in 3-space.  Does the discussion about \\overline{PQ} being equal to \\overline{QP} apply?  What about the definitions for having the same direction, opposite direction, etc.?"
   ],
   "metadata": {
    "collapsed": false,
    "pycharm": {
     "name": "#%% md\n"
    }
   }
  },
  {
   "cell_type": "markdown",
   "source": [
    "### 13\n",
    "\n",
    "Give the coordinates of the point\n",
    "\n",
    "a) one-third of the distance,\n",
    "                    b) two-thirds of the distance,\n",
    "                                         c) one-half of the distance\n",
    "\n",
    "between the points $P = (3, 1, 5)$ and $Q = (-1, 4, 3)$."
   ],
   "metadata": {
    "collapsed": false,
    "pycharm": {
     "name": "#%% md\n"
    }
   }
  },
  {
   "cell_type": "markdown",
   "source": [
    "### 14\n",
    "\n",
    "Same question for $P = (6, -1, -2)$ and $Q = (-4, 2, -3)$.\n",
    "\n",
    "---"
   ],
   "metadata": {
    "collapsed": false,
    "pycharm": {
     "name": "#%% md\n"
    }
   }
  },
  {
   "cell_type": "markdown",
   "source": [
    "Let $P$, $Q$, $M$ be the indicated points.  In Exercises 15 through 17, find the point $N$ such that $\\vec{PQ}$ has the same direction as $\\vec{MN}$ and such that the length of $\\vec{MN}$ is\n",
    "\n",
    "a) 3 times the length of $\\vec{PQ}$\n",
    "b) one-third the length of $PQ$"
   ],
   "metadata": {
    "collapsed": false,
    "pycharm": {
     "name": "#%% md\n"
    }
   }
  },
  {
   "cell_type": "markdown",
   "source": [
    "### 15\n",
    "\n",
    "$P = (1, 2, 3)$, $Q = (-1, 4, 5)$, $M = (-1, 5, 4)$\n",
    "\n",
    "a)\n",
    "b)"
   ],
   "metadata": {
    "collapsed": false,
    "pycharm": {
     "name": "#%% md\n"
    }
   }
  },
  {
   "cell_type": "markdown",
   "source": [
    "### 16\n",
    "\n",
    "$P = (-2, 4, 1)$, $Q = (-3, 5, -1)$, $M = (2, 3, -1)$\n",
    "\n",
    "a)\n",
    "b)"
   ],
   "metadata": {
    "collapsed": false,
    "pycharm": {
     "name": "#%% md\n"
    }
   }
  },
  {
   "cell_type": "markdown",
   "source": [
    "### 17\n",
    "\n",
    "$P = (3, -2, -2)$, $Q = (-1, -3, -4)$, $M = (3, 1, 1)$\n",
    "\n",
    "a)\n",
    "b)"
   ],
   "metadata": {
    "collapsed": false,
    "pycharm": {
     "name": "#%% md\n"
    }
   }
  }
 ],
 "metadata": {
  "kernelspec": {
   "display_name": "Python 3",
   "language": "python",
   "name": "python3"
  },
  "language_info": {
   "codemirror_mode": {
    "name": "ipython",
    "version": 2
   },
   "file_extension": ".py",
   "mimetype": "text/x-python",
   "name": "python",
   "nbconvert_exporter": "python",
   "pygments_lexer": "ipython2",
   "version": "2.7.6"
  }
 },
 "nbformat": 4,
 "nbformat_minor": 0
}