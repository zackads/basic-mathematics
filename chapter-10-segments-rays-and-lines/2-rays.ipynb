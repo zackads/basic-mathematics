{
 "cells": [
  {
   "cell_type": "markdown",
   "source": [
    "# §1 - Rays\n",
    "\n",
    "https://www.docdroid.net/K1VENuF/basic-mathematics-serge-lang-pdf#page=247\n",
    "\n",
    "## The big ideas\n",
    "\n",
    "### Rays\n",
    "\n",
    "A ray is like a vector but with only one limit, at its vertex.  The other side is infinite.  In Lang's analytic definition, a ray is the set of all points\n",
    "\n",
    "$$P + tA$$\n",
    "\n",
    "for points $P$ and $A$, and $t \\geq 0$.\n",
    "\n",
    "(The concept of (1) translate to the origin (2) perform transformation (3) translate back crops up here too.)\n",
    "\n",
    "### Direction\n",
    "\n",
    "We can use geometric intuition to tell whether two lines/vectors/rays/other directed objects have the same direction, but an analytic definition gives us certainty (as well as allowing us to operate in dimensions we can't visualise!)\n",
    "\n",
    "Lang gives an analytic definition of the direction of located vectors as one being the scalar multiple of the other:\n",
    "\n",
    "$$Q - P = c(N - M)$$\n",
    "\n",
    "for two vectors $\\vec{PQ}$ and $\\vec{MN}$."
   ],
   "metadata": {
    "collapsed": false,
    "pycharm": {
     "name": "#%% md\n"
    }
   }
  },
  {
   "cell_type": "markdown",
   "source": [
    "## Exercises\n",
    "\n",
    "Let $P$, $Q$ be the indicated points.  Give the coordinates of the point\n",
    "\n",
    "a) halfway,\n",
    "   b) one-third of the way,\n",
    "                       c) two-thirds of the way\n",
    "\n",
    "between $P$ and $Q$.\n",
    "\n",
    "### 1\n",
    "\n",
    "$P = (1, 5), Q = (3, -1)$\n",
    "\n",
    "a) $(2,2)$\n",
    "b) $(\\frac{5}{3}, 3)$\n",
    "c) $(\\frac{7}{3}, 1)$\n",
    "\n",
    "### 2\n",
    "\n",
    "$P = (2, 4), Q = (3, 7)$\n",
    "\n",
    "a) $(\\frac{5}{2}, \\frac{11}{2})$\n",
    "b) $(\\frac{7}{3}, 5)$\n",
    "c) $(\\frac{8}{3}, 6)$\n",
    "\n",
    "### 3\n",
    "\n",
    "$P = (-3, -2), Q = (-4, 5)$\n",
    "\n",
    "a) $(-\\frac{5}{2}, \\frac{3}{2})$\n",
    "b) $(-\\frac{8}{3}, \\frac{1}{3})$\n",
    "c) $(-\\frac{7}{3}, -\\frac{5}{3})$\n",
    "\n",
    "### 4\n",
    "\n",
    "$P = (-5, -1), Q = (4, 6)$\n",
    "\n",
    "a) $(-\\frac{1}{2}, \\frac{5}{2})$\n",
    "b) $(-2, \\frac{4}{3})$\n",
    "c) $(-1, \\frac{11}{3})$"
   ],
   "metadata": {
    "collapsed": false,
    "pycharm": {
     "name": "#%% md\n"
    }
   }
  },
  {
   "cell_type": "markdown",
   "source": [
    "### 5\n",
    "\n",
    "Prove that the image of the line segment $\\overline{PQ}$ under translation $T_A$ is also a line segment.  What are the end points of this image?\n",
    "\n",
    "---\n",
    "\n",
    "We want to show that $T_A(\\overline{PQ})$ can be written analytically in the form of a line segment.\n",
    "\n",
    "Start by expressing $\\overline{PQ}$ in analytic terms:\n",
    "\n",
    "$$\n",
    "\\overline{PQ} = P + t(Q - P), 0 \\leq t \\leq 1\n",
    "$$\n",
    "\n",
    "Then apply $T_A$:\n",
    "\n",
    "$$\n",
    "T_A(\\overline{PQ}) = (P + A) + t(Q - P)\n",
    "$$\n",
    "\n",
    "We could stop here, as we have shown that $T_A(\\overline{PQ})$ is in the form of a line segment.\n",
    "\n",
    "However, there are two problems with this:\n",
    "1. It doesn't help us find the second end point\n",
    "2. This form isn't intuitively useful: at first glance it could be interpreted that only the first point $P$ has been translated.  After some thought we can see that this is not the case, but it's helpful to others that mathematics we create is _readable_ (like code!)\n",
    "\n",
    "So, we want to continue and show that\n",
    "\n",
    "$$\n",
    "T_A(\\overline{PQ}) = P' + t(Q' - P')\n",
    "$$\n",
    "\n",
    "Which will give us the second end point ($Q'$), and is also a more intuitive representation: a reader can look at that line segment defined in points that are _in the image_ (i.e. $Q' - P'$), not in terms of other points from the original (i.e. $Q - P$).\n",
    "\n",
    "We know that $P' = P + A$, and it is evident (from the definition of $T_A$) that $Q' = Q + A$.\n",
    "\n",
    "So the end goal we're looking for is\n",
    "\n",
    "$$\n",
    "T_A(\\overline{PQ}) = (P + A) + t((Q + A) - (P + A))\n",
    "$$\n",
    "\n",
    "To show this, we need to get $+ A$ inside the $t(Q - P)$ term.\n",
    "\n",
    "We can do this be re-writing $A$ as the **degenerate case** of a line segment with length 0, i.e. a point:\n",
    "\n",
    "$$\n",
    "A = A + t(A - A)\n",
    "$$\n",
    "\n",
    "Which puts us in a position to do the algebraic jujitsu to get us to the desired end state:\n",
    "\n",
    "\\begin{align}\n",
    "T_A(\\overline{PQ}) &= P + A + t(A - A) + t(Q - P) \\\\\n",
    "T_A(\\overline{PQ}) &= P + A + tA - tA + tQ - tP \\\\\n",
    "T_A(\\overline{PQ}) &= P + A + tA - tA + tQ - tP \\\\\n",
    "T_A(\\overline{PQ}) &= P + A + t(A - A + Q - P) \\\\\n",
    "T_A(\\overline{PQ}) &= P + A + t((Q + A) - A - P) \\\\\n",
    "T_A(\\overline{PQ}) &= (P + A) + t((Q + A) - (P + A))\n",
    "\\end{align}\n",
    "\n",
    "We can see from this, using the analytic definition of a line segment, that $T_A(\\overline{PQ})$ starts and finishes at $(P + A)$ and $(Q + A)$ respectively.\n",
    "\n",
    "We've shown that $T_A(\\overline{PQ})$ can be written in the analytic form of a line segment, so we have proved that the translation by $A$ of a line segment is itself a line segment."
   ],
   "metadata": {
    "collapsed": false,
    "pycharm": {
     "name": "#%% md\n"
    }
   }
  },
  {
   "cell_type": "markdown",
   "source": [
    "Let $P$, $Q$, $M$ be the indicated points.  In Exercises 6 through 9, find the point $N$ such that $\\vec{PQ}$ has the same direction as $\\vec{MN}$ and such that the length of $\\vec{MN}$ is\n",
    "\n",
    "a) 3 times the length of $\\vec{PQ}$\n",
    "b) one-third the length of $\\vec{PQ}$"
   ],
   "metadata": {
    "collapsed": false,
    "pycharm": {
     "name": "#%% md\n"
    }
   }
  },
  {
   "cell_type": "markdown",
   "source": [
    "### 6\n",
    "\n",
    "$P = (1, 4)$, $Q = (1, -5)$, $M = (-2, 3)$\n",
    "\n",
    "---\n",
    "a)\n",
    "b)"
   ],
   "metadata": {
    "collapsed": false,
    "pycharm": {
     "name": "#%% md\n"
    }
   }
  },
  {
   "cell_type": "markdown",
   "source": [
    "### 7\n",
    "\n",
    "$P = (-1, -1)$, $Q = (3, -2)$, $M = (4, 4)$\n",
    "\n",
    "---\n",
    "a)\n",
    "b)"
   ],
   "metadata": {
    "collapsed": false,
    "pycharm": {
     "name": "#%% md\n"
    }
   }
  },
  {
   "cell_type": "markdown",
   "source": [
    "### 8\n",
    "\n",
    "$P = (1, -2)$, $Q = (5, 2)$, $M = (-4, 3)$\n",
    "\n",
    "---\n",
    "a)\n",
    "b)"
   ],
   "metadata": {
    "collapsed": false,
    "pycharm": {
     "name": "#%% md\n"
    }
   }
  },
  {
   "cell_type": "markdown",
   "source": [
    "### 9\n",
    "\n",
    "$P = (-1, 3)$, $Q = (\\frac{1}{2}, 4)$, $M = (\\frac{1}{3}, -1)$\n",
    "\n",
    "---\n",
    "a)\n",
    "b)"
   ],
   "metadata": {
    "collapsed": false,
    "pycharm": {
     "name": "#%% md\n"
    }
   }
  },
  {
   "cell_type": "markdown",
   "source": [
    "### 10\n",
    "\n",
    "Let $F$ be\n",
    "\n",
    "a) translation $T_A$\n",
    "b) reflection through $O$\n",
    "c) reflection through the $x$-axis\n",
    "d) reflection through the $y$-axis\n",
    "e) dilation by a number $r > 0$\n",
    "\n",
    "In each of these cases, prove that the image under $F$ of (i) a segment, (ii) a ray, is again (i) a segment, (ii) a ray, respectively.  Thus you really have 10 cases to consider $(10 = 5 \\cdot 2)$, but they are all easy.\n",
    "\n",
    "---\n",
    "\n",
    "a) translation $T_A$\n",
    "\n",
    "i.  **Line segment**.\n",
    "\n",
    "Let $\\overline{PQ}$ be a line segment.  Let $M = Q - P$.\n",
    "\n",
    "Therefore, $\\overline{PQ} = P + tM$ for all $0 \\leq t \\leq 1$ by the analytic definition of a line segment.\n",
    "\n",
    "We can re-write the definition of the line segment as a composition of a dilation by $t$ and a translation by $M$: $\\overline{PQ} = P + tM = (T_M \\circ D_t)(P)$ for $0 \\lt t \\leq 1$.\n",
    "\n",
    "When we apply $F$, the translation by $A$, we have $T_A(\\overline{PQ}) = (T_A \\circ T_M \\circ D_t)(P)$ for $0 \\lt t \\leq 1$.\n",
    "\n",
    "We know the composition of two translations is itself a translation by some point, let's call that $S$ such that $T_A \\circ T_M = T_S$.\n",
    "\n",
    "Thus, $T_A(\\overline{PQ}) = (T_S \\circ D_t)(P)$ for $0 \\lt t \\leq 1$.\n",
    "\n",
    "We see that this can be written in the arithmetic form: $T_A(\\overline{PQ}) = T_S(P) + tM$ for $0 \\lt t \\leq 1$.  We see that this is in the form of the analytic definition of a line segment, and so the image under $F$ of $\\overline{PQ}$ is itself a line segment and the theorem is proved.\n",
    "\n",
    "ii. **Ray**.  As the analytic definition of a ray is similar to the analytic definition of a line segment, but for $t \\geq 0$ instead of $0 \\leq t \\leq 1$, the argument in (i) applies: express the ray as a composition of mappings, apply $T_A$, consolidate the two outer transformations into one and find that the result is a ray by definition.\n",
    "\n",
    "b) reflection through $O$\n",
    "\n",
    "i.  **Line segment**.  Let $\\overline{PQ}$ be a line segment.  Let $M = Q - P$.\n",
    "\n",
    "Therefore, $\\overline{PQ} = P + tM$ for all $0 \\leq t \\leq 1$ by the analytic definition of a line segment.\n",
    "\n",
    "Applying $F$, we find $-\\overline{PQ} = -(P + tM)$\n",
    "\n",
    "$= -P + (-tM)$ by the distributive property of multiplication over addition.\n",
    "\n",
    "$= (-P) + (-t)M$ by the associative property.\n",
    "\n",
    "Which is in the form of the analytic definition of a line segment, so the image under $F$ of $\\overline{PQ}$ is itself a line segment. _(Am I relying too heavily on this argument?)_\n",
    "\n",
    "ii. **Ray**.  As for line segments but for all $t \\geq 0$. _(Feel I'm missing something)_\n",
    "\n",
    "c) reflection through the x-axis\n",
    "\n",
    "i.  **Line segment**.  Using the analytic definition of the line segment $\\overline{PQ} = P + tM$ for all $0 \\leq t \\leq 1$ and $M = Q - P$ as before.\n",
    "\n",
    "We could use the big idea from a previous chapter of translating everything to the origin, then reflecting in the origin, and then translating back again.  This would let us use the same proof as the previous two answers.  But instead, let's try unpacking the points into their constituent coordinates so we can  change the sign of the $y$-coordinate for the reflection.\n",
    "\n",
    "Let $N$ be any point on the line segment $\\overline{PQ}$ with coordinates $(x, y)$.\n",
    "\n",
    "Under reflection in the $x$-axis, $F(N) = N' = (x, -y)$.\n",
    "\n",
    "So we can say that $\\overline{P, Q} = (P_x, P_y) + t(M_x, M_y)$.\n",
    "\n",
    "And $F(\\overline(P, Q) = F((P_x, -P_y) + t(M_x, M_y)) = (P_x, -P_y) + t(M_x, -M_y)$. _(Uneasy about this -- I think this is a bit of a leap.  Does $F$ really have the distributive property over addition???)_\n",
    "\n",
    "Again, we can see this is in the form of the sum of a point P with a dilated point M.  Therefore $F(\\overline(P, Q))$ is, by definition, a line segment.\n",
    "\n",
    "_(Again, relying very heavily on the logic of 'get it into the form of the definition'.  Lang doesn't provide anything in the answer book.  Is there a simpler/more elegent way?)_\n",
    "\n",
    "ii.  **Ray**.  As for line segments but for all $t \\geq 0$.\n",
    "\n",
    "d) reflection through the y-axis.   Apply the coordinate-wise argument above, but for the transformation $(P_x, P_y) \\mapsto (-P_x, P_y)$ for some point $P$, for both segments and rays.\n",
    "\n",
    "e) dilation by a number $r > 0$.\n",
    "\n",
    "i.  **Line segment**.  Dilation by $r$ is the scalar multiplication of a point by $r$.\n",
    "\n",
    "So the dilation of a line segment is the scalar multiplication of all its points by $r$.\n",
    "\n",
    "Let $\\overline{PQ}$ be a line segment.  Let $M = Q - P$.\n",
    "\n",
    "Therefore, $\\overline{PQ} = P + tM$ for all $0 \\leq t \\leq 1$ by the analytic definition of a line segment.\n",
    "\n",
    "$F(\\overline{PQ}) = r(P + tM) = rP + t(rM)$\n",
    "\n",
    "Which again is the definition of a line segment, so the image of the line segment $\\overline{PQ}$ is also a line segment under the dilation $F$.\n",
    "\n",
    "ii. **Ray**.  The same argument applies as using the analytic definition of a line segment, but for $t \\geq 0$."
   ],
   "metadata": {
    "collapsed": false,
    "pycharm": {
     "name": "#%% md\n"
    }
   }
  },
  {
   "cell_type": "markdown",
   "source": [
    "### 11\n",
    "\n",
    "After you have read the definition of a straight line in the next section, prove that the image under F of a straight line is again a straight line. \\[Here F is any one of the mappings in Exercise 10.\\]\n",
    "\n",
    "---"
   ],
   "metadata": {
    "collapsed": false,
    "pycharm": {
     "name": "#%% md\n"
    }
   }
  },
  {
   "cell_type": "markdown",
   "source": [
    "### 12\n",
    "\n",
    "Give a definition for two located vectors to have **opposite direction**.  Similarly, if A \\neq O and B \\neq O, give a definition for A and B to have opposite direction.  Draw the corresponding pictures.\n",
    "\n",
    "---"
   ],
   "metadata": {
    "collapsed": false,
    "pycharm": {
     "name": "#%% md\n"
    }
   }
  },
  {
   "cell_type": "markdown",
   "source": [
    "**The 3-dimensional case**\n",
    "\n",
    "Give the definition for a segment, a ray in 3-space.  Does the discussion about \\overline{PQ} being equal to \\overline{QP} apply?  What about the definitions for having the same direction, opposite direction, etc.?"
   ],
   "metadata": {
    "collapsed": false,
    "pycharm": {
     "name": "#%% md\n"
    }
   }
  },
  {
   "cell_type": "markdown",
   "source": [
    "### 13\n",
    "\n",
    "Give the coordinates of the point\n",
    "\n",
    "a) one-third of the distance,\n",
    "b) two-thirds of the distance,\n",
    "c) one-half of the distance\n",
    "\n",
    "between the points $P = (3, 1, 5)$ and $Q = (-1, 4, 3)$.\n",
    "\n",
    "---\n",
    "\n",
    "a) $P + \\frac{1}{3}(Q - P)$\n",
    "$= (3, 1, 5) + \\frac{1}{3}(-1 - 3, 4 - 1, 3 - 5)$\n",
    "$= (3, 1, 5) + \\frac{1}{3}(-4, 3, -2)$\n",
    "$= (3, 1, 5) + (-\\frac{4}{3}, 1, -\\frac{2}{3})$\n",
    "$= (\\frac{5}{3}, 2, \\frac{13}{3})$\n",
    "\n",
    "b) $P + \\frac{2}{3}(Q - P)$\n",
    "$= (3, 1, 5) + 2(-\\frac{4}{3}, 1, -\\frac{2}{3})$\n",
    "$= (3, 1, 5) + (-\\frac{8}{3}, 2, -\\frac{4}{3})$\n",
    "$= (\\frac{1}{3}, 3, \\frac{11}{3})$\n",
    "\n",
    "c) $P + \\frac{1}{2}(Q - P)$\n",
    "$= (3, 1, 5) + \\frac{1}{2}(-4, 3, -2)$\n",
    "$= (3, 1, 5) + (-2, \\frac{3}{2}, -1)$\n",
    "$= (1, \\frac{5}{2}, 4)$"
   ],
   "metadata": {
    "collapsed": false,
    "pycharm": {
     "name": "#%% md\n"
    }
   }
  },
  {
   "cell_type": "markdown",
   "source": [
    "### 14\n",
    "\n",
    "Same question for $P = (6, -1, -2)$ and $Q = (-4, 2, -3)$.\n",
    "\n",
    "---\n",
    "\n",
    "a) $P + \\frac{1}{3}(Q - P)$\n",
    "$= (6, -1, -2) + \\frac{1}{3}(-4 - 6, 2 - (-1), -3 - (-2))$\n",
    "$= (6, -1, -2) + \\frac{1}{3}(-10, 3, -1)$\n",
    "$= (6, -1, -2) + (-\\frac{10}{3}, 1, -\\frac{1}{3}))$\n",
    "$= (\\frac{8}{3}, 0, -\\frac{5}{3})$\n",
    "\n",
    "b) $P + \\frac{2}{3}(Q - P)$\n",
    "$= (6, -1, -2) + 2(-\\frac{10}{3}, 1, -\\frac{1}{3})$\n",
    "$= (6, -1, -2) + (-\\frac{20}{3}, 2, -\\frac{2}{3})$\n",
    "$= (-\\frac{2}{3}, 1, -\\frac{8}{3})$\n",
    "\n",
    "c) $P + \\frac{1}{2}(Q - P)$\n",
    "$= (6, -1, -2) + \\frac{1}{2}(-10, 3, -1)$\n",
    "$= (6, -1, -2) + (-5, \\frac{3}{2}, -frac{1}{2})$\n",
    "$= (1, \\frac{1}{2}, -\\frac{5}{2})$"
   ],
   "metadata": {
    "collapsed": false,
    "pycharm": {
     "name": "#%% md\n"
    }
   }
  },
  {
   "cell_type": "markdown",
   "source": [
    "Let $P$, $Q$, $M$ be the indicated points.  In Exercises 15 through 17, find the point $N$ such that $\\vec{PQ}$ has the same direction as $\\vec{MN}$ and such that the length of $\\vec{MN}$ is\n",
    "\n",
    "a) 3 times the length of $\\vec{PQ}$\n",
    "b) one-third the length of $PQ$"
   ],
   "metadata": {
    "collapsed": false,
    "pycharm": {
     "name": "#%% md\n"
    }
   }
  },
  {
   "cell_type": "markdown",
   "source": [
    "### 15\n",
    "\n",
    "$P = (1, 2, 3)$, $Q = (-1, 4, 5)$, $M = (-1, 5, 4)$\n",
    "\n",
    "a) If $\\vec{MN}$ is $3$ times the length of $\\vec{PQ}$ but has the same direction, then\n",
    "\n",
    "$$N - M = 3(Q - P)$$\n",
    "\n",
    "Substituting known points, we find\n",
    "\n",
    "$$\n",
    "N = 3(Q - P) + M \\\\\n",
    "= 3((-1, -4, 5) - (1, 2, 3)) + (-1, 5, 4) \\\\\n",
    "= 3(-2, 2, 2) + (-1, 5, 4) \\\\\n",
    "= (-6, 6, 6) + (-1, 5, 4) \\\\\n",
    "= (-7, 11, 10)\n",
    "$$\n",
    "\n",
    "b)\n",
    "\n",
    "$$\n",
    "N - M = \\frac{1}{3}(Q - P)$ \\\\\n",
    "N = \\frac{1}{3}(-2, 2, 2) + (-1, 5, 4)$ \\\\\n",
    "= (-\\frac{2}{3}, \\frac{2}{3}, \\frac{2}{3}) + (-1, 5, 4)$ \\\\\n",
    "= (-\\frac{5}{3}, \\frac{17}{3}, \\frac{14}{3})$\n",
    "$$"
   ],
   "metadata": {
    "collapsed": false,
    "pycharm": {
     "name": "#%% md\n"
    }
   }
  },
  {
   "cell_type": "markdown",
   "source": [
    "### 16\n",
    "\n",
    "$P = (-2, 4, 1)$, $Q = (-3, 5, -1)$, $M = (2, 3, -1)$\n",
    "\n",
    "a)\n",
    "\n",
    "$$\n",
    "N - M = 3(Q - P) \\\\\n",
    "N = 3(Q - P) + M \\\\\n",
    "= 3(-3 - (-2), 5 - 4, -1 - 1) + (2, 3, -1) \\\\\n",
    "= 3(-1, 1, -2) + (2, 3, -1) \\\\\n",
    "= (-3, 3, -6) + (2, 3, -1) \\\\\n",
    "N = (-1, 6, -7)\n",
    "$$\n",
    "\n",
    "b)\n",
    "\n",
    "$$\n",
    "N = \\frac{1}{3}(Q - P) + M \\\\\n",
    "= \\frac{1}{3}(-1, 1, -2) + (2, 3, -1) \\\\\n",
    "= (-\\frac{1}{3}, \\frac{1}{3}, -\\frac{2}{3}) + (2, 3, -1) \\\\\n",
    "= (\\frac{5}{3}, \\frac{10}{3}, -\\frac{5}{3})\n",
    "$$"
   ],
   "metadata": {
    "collapsed": false,
    "pycharm": {
     "name": "#%% md\n"
    }
   }
  },
  {
   "cell_type": "markdown",
   "source": [
    "### 17\n",
    "\n",
    "$P = (3, -2, -2)$, $Q = (-1, -3, -4)$, $M = (3, 1, 1)$\n",
    "\n",
    "a)\n",
    "\n",
    "$$\n",
    "N = 3(Q - P) + M \\\\\n",
    "= 3(-1 - 3, -3 - (-2), -4 - (-2)) + (3, 1, 1) \\\\\n",
    "= 3(-4, -1, -2) + (3, 1, 1) \\\\\n",
    "= (-12, -3, -6) + (3, 1, 1) \\\\\n",
    "N = (-9, -2, -5)\n",
    "$$\n",
    "\n",
    "b)\n",
    "\n",
    "$$\n",
    "N = \\frac{1}{3}(Q - P) + M \\\\\n",
    "= \\frac{1}{3}(-4, -1, -2) + (3, 1, 1) \\\\\n",
    "= (-\\frac{4}{3}, -\\frac{1}{3}, -\\frac{2}{3}) + (3, 1, 1) \\\\\n",
    "N = (\\frac{8}{3}, \\frac{2}{3}, \\frac{1}{3})\n",
    "$$"
   ],
   "metadata": {
    "collapsed": false,
    "pycharm": {
     "name": "#%% md\n"
    }
   }
  }
 ],
 "metadata": {
  "kernelspec": {
   "display_name": "Python 3",
   "language": "python",
   "name": "python3"
  },
  "language_info": {
   "codemirror_mode": {
    "name": "ipython",
    "version": 2
   },
   "file_extension": ".py",
   "mimetype": "text/x-python",
   "name": "python",
   "nbconvert_exporter": "python",
   "pygments_lexer": "ipython2",
   "version": "2.7.6"
  }
 },
 "nbformat": 4,
 "nbformat_minor": 0
}