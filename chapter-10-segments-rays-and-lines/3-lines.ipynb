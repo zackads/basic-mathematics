{
 "cells": [
  {
   "cell_type": "code",
   "execution_count": 28,
   "outputs": [],
   "source": [
    "from math import sqrt\n",
    "\n",
    "from matplotlib import pyplot as plt\n",
    "from lib.circle import circle\n",
    "from lib.lines import line\n",
    "from lib.points import add"
   ],
   "metadata": {
    "collapsed": false,
    "pycharm": {
     "name": "#%%\n"
    }
   }
  },
  {
   "cell_type": "markdown",
   "source": [
    "# §3 - Lines\n",
    "\n",
    "https://www.docdroid.net/K1VENuF/basic-mathematics-serge-lang-pdf#page=252\n",
    "\n",
    "## The big ideas"
   ],
   "metadata": {
    "collapsed": false,
    "pycharm": {
     "name": "#%% md\n"
    }
   }
  },
  {
   "cell_type": "markdown",
   "source": [
    "## Exercises\n",
    "\n",
    "## 12\n",
    "\n",
    "Let $A = (a_1, a_2)$ and $B = (b_1, b_2)$.  Assume that $A \\neq O$ and $B \\neq O$.  Prove that $A$ is parallel to $B$ if and only if\n",
    "\n",
    "$$a_1b_2 - a_2b_1 = 0$$\n",
    "\n",
    "---\n",
    "We recall the definition of parallelism between two points: A and B are parallel iff one is a scalar multiple of the other, i.e.\n",
    "\n",
    "$A = cB$\n",
    "\n",
    "We can write this in point form:\n",
    "\n",
    "$$(a_1, b_1) = c(a_2, b_2) \\\\\n",
    "= (ca_2, cb_2)$$\n",
    "\n",
    "And express $c$ in terms of the coordinates of $A$ and $B$:\n",
    "\n",
    "$$\n",
    "a_1 = ca_2 \\\\\n",
    "c = \\frac{a_1}{a_2}\n",
    "$$\n",
    "\n",
    "$$\n",
    "b_1 = cb_2 \\\\\n",
    "c = \\frac{b_1}{b_2}\n",
    "$$\n",
    "\n",
    "Equating the two expressions for $c$ we now have\n",
    "\n",
    "$$\n",
    "\\frac{a_1}{a_2} = \\frac{b_1}{b_2} \\\\\n",
    "a_1b_2 = a_2b_1 \\\\\n",
    "a_1b_2 - a_2b_1 = 0\n",
    "$$\n",
    "\n",
    "Which is the equation given.\n",
    "\n",
    "If $c$ exists, i.e. $A$ and $B$ are parallel, then the expression $a_1b_2 - a_2b_1 = 0$ is true and so the statement is proved."
   ],
   "metadata": {
    "collapsed": false,
    "pycharm": {
     "name": "#%% md\n"
    }
   }
  },
  {
   "cell_type": "markdown",
   "source": [
    "### 13\n",
    "\n",
    "Prove: If two lines are not parallel, then they have exactly one point in common.\n",
    "\n",
    "---\n",
    "\n",
    "Let the two lines be represented parametrically by\n",
    "\n",
    "$$\n",
    "{P + tA}_{t in \\mathbb{R}} = {(p_1, p_2) + t(a_1, a_2)}_{t in \\mathbb{R}} \\\\\n",
    "{Q + sB}_{s in \\mathbb{R}} = {(q_1, q_2) + s(b_1, b_2)}_{s in \\mathbb{R}}\n",
    "$$\n",
    "\n",
    "We must find the values of $s$ and $t$ such that\n",
    "\n",
    "$$\n",
    "p_1 + ta_1 = q_1 + sb_1 \\\\\n",
    "p_2 + ta_2 = q_2 + sb_2\n",
    "$$\n",
    "\n",
    "or, in other words\n",
    "\n",
    "$$\n",
    "ta_1 - sb_1 = q_1 - p_1 \\\\\n",
    "ta_2 - sb_2 = q_2 - p_2\n",
    "$$\n",
    "\n",
    "Re-arranging in terms of $t$\n",
    "\n",
    "$$\n",
    "ta_1 = q_1 - p_1 + sb_1 \\\\\n",
    "t = \\frac{q_1 - p_1 + sb_1}{a_1}\n",
    "$$\n",
    "\n",
    "$$\n",
    "ta_2 = q_2 - p_2 + sb_2 \\\\\n",
    "t = \\frac{q_2 - p_2 + sb_2}{a_2}\n",
    "$$\n",
    "\n",
    "$$\n",
    "\\frac{q_1 - p_1 + sb_1}{a_1} = \\frac{q_2 - p_2 + sb_2}{a_2} \\\\\n",
    "a_2(q_1 - p_1 + sb_1) = a_1(q_2 - p_2 + sb_2) \\\\\n",
    "a_2q_1 - a_2p_1 + sa_2b_1 = a_1q_2 - a_1p_2 + sa_1b_2 \\\\\n",
    "sa_2b_1 - sa_1b_2 = a_1q_2 - a_1p_2 - a_2q_1 + a_2p_1 \\\\\n",
    "s(a_2b_1 - a_1b_2) = a_1q_2 - a_1p_2 - a_2q_1 + a_2p_1 \\\\\n",
    "s = \\frac{a_1q_2 - a_1p_2 - a_2q_1 + a_2p_1}{a_2b_1 - a_1b_2} \\\\\n",
    "s = \\frac{a_1(q_2 - p_2) - a_2(q_1 + p_1)}{a_2b_1 - a_1b_2}\n",
    "$$\n",
    "\n",
    "We have a value for $s$ in terms of known coordinates.  Substituting this value of $s$ into one of the equations for $t$:\n",
    "\n",
    "$$\n",
    "t = \\frac{q_1 - p_1 + (\\frac{a_1(q_2 - p_2) - a_2(q_1 + p_1)}{a_2b_1 - a_1b_2})b_1}{a_1}\n",
    "$$\n",
    "\n",
    "Thus, the system of equations for $s$ and $t$ can be solved and so the two lines intersect.  The statement is proved."
   ],
   "metadata": {
    "collapsed": false,
    "pycharm": {
     "name": "#%% md\n"
    }
   }
  },
  {
   "cell_type": "markdown",
   "source": [
    "### 14\n",
    "\n",
    "Find the points of intersection of the given line ${P + tA}_t \\in \\mathbb{R}$ and the circle of radius $8$ centered at the origin, when $P$, $A$ are as indicated.  If there are no such points, say so, and why.  Draw the line and circle.\n",
    "\n",
    "a) $P = (1, -1)$, $A = (-3, 1)$\n",
    "b) $P = (2, -3)$, $A = (1, 1)$\n",
    "c) $P = (-2, 1)$, $A = (3, 5)$\n",
    "d) $P = (3, 1)$, $A = (-2, -4)$\n",
    "\n",
    "---\n",
    "\n",
    "a)  $P = (1, -1)$, $A = (-3, 1)$.  Express the line $P + tA$ parametrically:\n",
    "\n",
    "$$\n",
    "x(t) = 1 - 3t \\\\\n",
    "y(t) = t - 1\n",
    "$$\n",
    "\n",
    "Substitute into the equation for the circle\n",
    "\n",
    "$$\n",
    "(1 - 3t)^2 + (t - 1)^2 = 8^2\n",
    "$$\n",
    "\n",
    "Re-arrange into a quadratic in $t$\n",
    "\n",
    "$$10t^2 - 8t - 62 = 0$$\n",
    "\n",
    "And solve\n",
    "\n",
    "$$t = \\frac{{2} \\pm \\sqrt{159}}{5}$$\n",
    "\n",
    "Find the two values of $x$ and $y$:\n",
    "\n",
    "$$\n",
    "x(\\frac{{2} + \\sqrt{159}}{5}) = \\frac{-1 - 3\\sqrt{159}}{5} \\\\\n",
    "y(\\frac{{2} + \\sqrt{159}}{5}) = \\frac{-3 + \\sqrt{159}}{5}\n",
    "$$\n",
    "\n",
    "$$\n",
    "x(\\frac{{2} - \\sqrt{159}}{5}) = \\frac{-1 + 3\\sqrt{159}}{5} \\\\\n",
    "y(\\frac{{2} - \\sqrt{159}}{5}) = \\frac{-3 - \\sqrt{159}}{5}\n",
    "$$\n",
    "\n",
    "Therefore, the intersections of the circle by the line occur at $(\\frac{-1 - 3\\sqrt{159}}{5}, \\frac{-3 + \\sqrt{159}}{5})$ and $(\\frac{-1 + 3\\sqrt{159}}{5}, \\frac{-3 - \\sqrt{159}}{5})$."
   ],
   "metadata": {
    "collapsed": false,
    "pycharm": {
     "name": "#%% md\n"
    }
   }
  },
  {
   "cell_type": "code",
   "execution_count": 29,
   "outputs": [
    {
     "data": {
      "text/plain": "[<matplotlib.lines.Line2D at 0x7fb494f8c6a0>]"
     },
     "execution_count": 29,
     "metadata": {},
     "output_type": "execute_result"
    },
    {
     "data": {
      "text/plain": "<Figure size 432x288 with 1 Axes>",
      "image/png": "[encoded data removed]"
     },
     "metadata": {
      "needs_background": "light"
     },
     "output_type": "display_data"
    }
   ],
   "source": [
    "# (a)\n",
    "C = circle(8)\n",
    "P = (1, -1)\n",
    "A = (-3, 1)\n",
    "L = line(P, A, upper=10, lower=-10)\n",
    "I_1 = ((-1 - 3 * sqrt(159)) / 5, (-3 + sqrt(159)) / 5)\n",
    "I_2 = ((-1 + 3 * sqrt(159)) / 5, (-3 - sqrt(159)) / 5)\n",
    "\n",
    "plt.gca().set_aspect('equal')\n",
    "plt.xlim([-10, 10])\n",
    "plt.ylim([-10, 10])\n",
    "\n",
    "plt.scatter(*zip(*C), s=0.1)\n",
    "plt.scatter(*zip(*L), s=0.1)\n",
    "plt.plot(*I_1, 'o')\n",
    "plt.plot(*I_2, 'o')\n",
    "plt.plot(*P, 'o')\n",
    "plt.plot(*add(P, A), 'o')"
   ],
   "metadata": {
    "collapsed": false,
    "pycharm": {
     "name": "#%%\n"
    }
   }
  },
  {
   "cell_type": "markdown",
   "source": [
    "b) $P = (2, -3)$, $A = (1, 1)$\n",
    "\n",
    "The line $\\{P + tA\\}_{t \\in \\mathbb{R}}$ intersects the circle at $(\\frac{5+\\sqrt{103}}{2}, \\frac{-5 + \\sqrt{103}}{2})$ and $(\\frac{5 - \\sqrt{103}}{2}, \\frac{-5 - \\sqrt{103}}{2})$."
   ],
   "metadata": {
    "collapsed": false,
    "pycharm": {
     "name": "#%% md\n"
    }
   }
  },
  {
   "cell_type": "code",
   "execution_count": 30,
   "outputs": [
    {
     "data": {
      "text/plain": "[<matplotlib.lines.Line2D at 0x7fb49505f520>]"
     },
     "execution_count": 30,
     "metadata": {},
     "output_type": "execute_result"
    },
    {
     "data": {
      "text/plain": "<Figure size 432x288 with 1 Axes>",
      "image/png": "[encoded data removed]"
     },
     "metadata": {
      "needs_background": "light"
     },
     "output_type": "display_data"
    }
   ],
   "source": [
    "# (b)\n",
    "C = circle(8)\n",
    "P = (2, -3)\n",
    "A = (1, 1)\n",
    "L = line(P, A, upper=10, lower=-10)\n",
    "I_1 = ((5 + sqrt(103)) / 2, (-5 + sqrt(103)) / 2)\n",
    "I_2 = ((5 - sqrt(103)) / 2, (-5 - sqrt(103)) / 2)\n",
    "\n",
    "plt.gca().set_aspect('equal')\n",
    "plt.xlim([-10, 10])\n",
    "plt.ylim([-10, 10])\n",
    "\n",
    "plt.scatter(*zip(*C), s=0.1)\n",
    "plt.scatter(*zip(*L), s=0.1)\n",
    "plt.plot(*I_1, 'o')\n",
    "plt.plot(*I_2, 'o')\n",
    "plt.plot(*P, 'o')\n",
    "plt.plot(*add(P, A), 'o')"
   ],
   "metadata": {
    "collapsed": false,
    "pycharm": {
     "name": "#%%\n"
    }
   }
  },
  {
   "cell_type": "markdown",
   "source": [
    "c) $P = (-2, 1)$, $A = (3, 5)$\n",
    "\n",
    "$(\\frac{-65 + 93\\sqrt{2}}{34}, \\frac{39 + 155\\sqrt{2}}{34})$ and $(\\frac{-65 - 93\\sqrt{2}}{34}, \\frac{39 - 155\\sqrt{2}}{34})$."
   ],
   "metadata": {
    "collapsed": false,
    "pycharm": {
     "name": "#%% md\n"
    }
   }
  },
  {
   "cell_type": "code",
   "execution_count": 31,
   "outputs": [
    {
     "data": {
      "text/plain": "[<matplotlib.lines.Line2D at 0x7fb49511f3d0>]"
     },
     "execution_count": 31,
     "metadata": {},
     "output_type": "execute_result"
    },
    {
     "data": {
      "text/plain": "<Figure size 432x288 with 1 Axes>",
      "image/png": "[encoded data removed]"
     },
     "metadata": {
      "needs_background": "light"
     },
     "output_type": "display_data"
    }
   ],
   "source": [
    "# (c)\n",
    "C = circle(8)\n",
    "P = (-2, 1)\n",
    "A = (3, 5)\n",
    "L = line(P, A, upper=10, lower=-10)\n",
    "I_1 = ((-65 + 93 * sqrt(2)) / 34, (39 + 155 * sqrt(2)) / 34)\n",
    "I_2 = ((-65 - 93 * sqrt(2)) / 34, (39 - 155 * sqrt(2)) / 34)\n",
    "\n",
    "plt.gca().set_aspect('equal')\n",
    "plt.xlim([-10, 10])\n",
    "plt.ylim([-10, 10])\n",
    "\n",
    "plt.scatter(*zip(*C), s=0.1)\n",
    "plt.scatter(*zip(*L), s=0.1)\n",
    "plt.plot(*I_1, 'o')\n",
    "plt.plot(*I_2, 'o')\n",
    "plt.plot(*P, 'o')\n",
    "plt.plot(*add(P, A), 'o')"
   ],
   "metadata": {
    "collapsed": false,
    "pycharm": {
     "name": "#%%\n"
    }
   }
  },
  {
   "cell_type": "markdown",
   "source": [
    "d) $P = (3, 1)$, $A = (-2, -4)$\n",
    "\n",
    "$(\\frac{10 + \\sqrt{295}}{5}, \\frac{-5 + 2\\sqrt{295}}{5})$ and $(\\frac{10 - \\sqrt{295}}{5}, \\frac{-5 - 2\\sqrt{295}}{5})$."
   ],
   "metadata": {
    "collapsed": false,
    "pycharm": {
     "name": "#%% md\n"
    }
   }
  },
  {
   "cell_type": "code",
   "execution_count": 32,
   "outputs": [
    {
     "data": {
      "text/plain": "[<matplotlib.lines.Line2D at 0x7fb4951deb20>]"
     },
     "execution_count": 32,
     "metadata": {},
     "output_type": "execute_result"
    },
    {
     "data": {
      "text/plain": "<Figure size 432x288 with 1 Axes>",
      "image/png": "[encoded data removed]"
     },
     "metadata": {
      "needs_background": "light"
     },
     "output_type": "display_data"
    }
   ],
   "source": [
    "# (d)\n",
    "C = circle(8)\n",
    "P = (3, 1)\n",
    "A = (-2, -4)\n",
    "L = line(P, A, upper=10, lower=-10)\n",
    "I_1 = ((10 + sqrt(295)) / 5, (-5 + 2 * sqrt(295)) / 5)\n",
    "I_2 = ((10 - sqrt(295)) / 5, (-5 - 2 * sqrt(295)) / 5)\n",
    "\n",
    "plt.gca().set_aspect('equal')\n",
    "plt.xlim([-10, 10])\n",
    "plt.ylim([-10, 10])\n",
    "\n",
    "plt.scatter(*zip(*C), s=0.1)\n",
    "plt.scatter(*zip(*L), s=0.1)\n",
    "plt.plot(*I_1, 'o')\n",
    "plt.plot(*I_2, 'o')\n",
    "plt.plot(*P, 'o')\n",
    "plt.plot(*add(P, A), 'o')"
   ],
   "metadata": {
    "collapsed": false,
    "pycharm": {
     "name": "#%%\n"
    }
   }
  },
  {
   "cell_type": "markdown",
   "source": [
    "### 18\n",
    "\n",
    "Let $S$ be the circle of radius $r > 0$ centered at the origin.  Let $P = (p, q)$ be a point such that\n",
    "\n",
    "$$p^2 + q^2 \\leq r^2$$\n",
    "\n",
    "In other words, $P$ is a point in the disc of radius $r$ centered at $O$.  Show that any line passing through $P$ must intersect the circle, and find the points of intersection.\n",
    "\n",
    "---\n",
    "\n",
    "Let $P + tA$ be a line where $A = (a, b)$.\n",
    "\n",
    "We can express this in terms of coordinates\n",
    "\n",
    "$$(p, q) + t(a, b)$$\n",
    "\n",
    "And express each coordinate as a parameterized function of $t$\n",
    "\n",
    "$$\n",
    "x(t) = p + ta \\\\\n",
    "y(t) = q + tb\n",
    "$$\n",
    "\n",
    "Then substitute into the equation for the circle $S$\n",
    "\n",
    "$$\n",
    "x^2 + y^2 = r^2 \\\\\n",
    "(p + ta)^2 + (q + tb)^2 = r^2\n",
    "$$\n",
    "\n",
    "And expand and rearrange into the form of a quadratic\n",
    "\n",
    "$$\n",
    "(a^2 + b^2)t^2 + (2pa + 2qb)t + (p^2 + q^2) = r^2\n",
    "$$\n",
    "\n",
    "Substituting the coefficients into the quadratic formula we have\n",
    "\n",
    "$$\n",
    "t = \\frac{-(2pa + 2qb) \\pm \\sqrt{(2pa + 2qb)^2 - 4(a^2 + b^2)(p^2 + q^2)}}{2(a^2 + b^2)}\n",
    "$$\n",
    "\n",
    "Which we can use to find the values of $x$ and $y$ at the intercepts\n",
    "\n",
    "$$\n",
    "x(t_1) = p + (\\frac{-(2pa + 2qb) + \\sqrt{(2pa + 2qb)^2 - 4(a^2 + b^2)(p^2 + q^2)}}{2(a^2 + b^2)})a \\\\\n",
    "y(t_1) = q + (\\frac{-(2pa + 2qb) + \\sqrt{(2pa + 2qb)^2 - 4(a^2 + b^2)(p^2 + q^2)}}{2(a^2 + b^2)})b \\\\\n",
    "x(t_2) = p + (\\frac{-(2pa + 2qb) - \\sqrt{(2pa + 2qb)^2 - 4(a^2 + b^2)(p^2 + q^2)}}{2(a^2 + b^2)})a \\\\\n",
    "y(t_2) = q + (\\frac{-(2pa + 2qb) - \\sqrt{(2pa + 2qb)^2 - 4(a^2 + b^2)(p^2 + q^2)}}{2(a^2 + b^2)})b\n",
    "$$\n",
    "\n",
    "Therefore, the coordinates of the intercepts are\n",
    "\n",
    "$$\n",
    "(p + (\\frac{-(2pa + 2qb) + \\sqrt{(2pa + 2qb)^2 - 4(a^2 + b^2)(p^2 + q^2)}}{2(a^2 + b^2)})a, q + (\\frac{-(2pa + 2qb) + \\sqrt{(2pa + 2qb)^2 - 4(a^2 + b^2)(p^2 + q^2)}}{2(a^2 + b^2)})b)\n",
    "$$\n",
    "\n",
    "and\n",
    "\n",
    "$$\n",
    "(p + (\\frac{-(2pa + 2qb) - \\sqrt{(2pa + 2qb)^2 - 4(a^2 + b^2)(p^2 + q^2)}}{2(a^2 + b^2)})a, q + (\\frac{-(2pa + 2qb) - \\sqrt{(2pa + 2qb)^2 - 4(a^2 + b^2)(p^2 + q^2)}}{2(a^2 + b^2)})b)\n",
    "$$\n",
    "\n",
    "To show that $(x(t_1), y(t_1))$ and $(x(t_2), y(t_2))$ are both $\\in S$, we can show that the discriminant $\\gt 0$, because otherwise $t$ would have no real solutions and there would be no intersection.\n",
    "\n",
    "So we must show that\n",
    "\n",
    "$$\n",
    "(2pa + 2qb)^2 - 4(a^2 + b^2)(p^2 + q^2) \\geq 0\n",
    "$$\n",
    "\n",
    "_(I got lost in an algebraic quagmire here trying to show that $4(a^2 + b^2)(p^2 + q^2) \\leq (2pa + 2qb)^2$, after which I looked at the back of the book and realised... I'd dropped the r^2 from the equation for the intersection.  The rest is my work after I'd seen the \"correct\" answer)_\n",
    "\n",
    "...\n",
    "\n",
    "Substituting the coefficients into the quadratic formula we have\n",
    "\n",
    "$$\n",
    "t = \\frac{-(2pa + 2qb) \\pm \\sqrt{(2pa + 2qb)^2 - 4(a^2 + b^2)(p^2 + q^2)}}{2(a^2 + b^2 - r^2)}\n",
    "$$\n",
    "\n",
    "Which we can use to find the values of $x$ and $y$ at the intercepts\n",
    "\n",
    "$$\n",
    "x(t_1) = p + (\\frac{-(2pa + 2qb) + \\sqrt{(2pa + 2qb)^2 - 4(a^2 + b^2)(p^2 + q^2)}}{2(a^2 + b^2 - r^2)})a \\\\\n",
    "y(t_1) = q + (\\frac{-(2pa + 2qb) + \\sqrt{(2pa + 2qb)^2 - 4(a^2 + b^2)(p^2 + q^2)}}{2(a^2 + b^2 - r^2)})b \\\\\n",
    "x(t_2) = p + (\\frac{-(2pa + 2qb) - \\sqrt{(2pa + 2qb)^2 - 4(a^2 + b^2)(p^2 + q^2)}}{2(a^2 + b^2 - r^2)})a \\\\\n",
    "y(t_2) = q + (\\frac{-(2pa + 2qb) - \\sqrt{(2pa + 2qb)^2 - 4(a^2 + b^2)(p^2 + q^2)}}{2(a^2 + b^2 - r^2)})b\n",
    "$$\n",
    "\n",
    "Therefore, the coordinates of the intercepts are\n",
    "\n",
    "$$\n",
    "(p + (\\frac{-(2pa + 2qb) + \\sqrt{(2pa + 2qb)^2 - 4(a^2 + b^2 - r^2)(p^2 + q^2)}}{2(a^2 + b^2)})a, q + (\\frac{-(2pa + 2qb) + \\sqrt{(2pa + 2qb)^2 - 4(a^2 + b^2)(p^2 + q^2)}}{2(a^2 + b^2 - r^2)})b)\n",
    "$$\n",
    "\n",
    "and\n",
    "\n",
    "$$\n",
    "(p + (\\frac{-(2pa + 2qb) - \\sqrt{(2pa + 2qb)^2 - 4(a^2 + b^2 - r^2)(p^2 + q^2)}}{2(a^2 + b^2)})a, q + (\\frac{-(2pa + 2qb) - \\sqrt{(2pa + 2qb)^2 - 4(a^2 + b^2)(p^2 + q^2)}}{2(a^2 + b^2 - r^2)})b)\n",
    "$$\n",
    "\n",
    "To show that $(x(t_1), y(t_1))$ and $(x(t_2), y(t_2))$ are both $\\in S$, we can show that the discriminant $\\gt 0$, because otherwise $t$ would have no real solutions and there would be no intersection.\n",
    "\n",
    "So we must show that\n",
    "\n",
    "$$\n",
    "(2pa + 2qb)^2 - 4(a^2 + b^2)(p^2 + q^2 - r^2) \\geq 0\n",
    "$$\n",
    "\n",
    "Simplified by factoring out 2^2 from the first term and dividing through by 4\n",
    "\n",
    "$$\n",
    "(pa + 2qb)^2 - (a^2 + b^2)(p^2 + q^2 - r^2) \\geq 0\n",
    "$$\n",
    "\n",
    "We can show this by re-arranging the signs of the discriminant\n",
    "\n",
    "$$\n",
    "(pa + 2qb)^2 - (a^2 + b^2)(p^2 + q^2 - r^2)\n",
    "(pa + 2qb)^2 - (a^2 + b^2)(-1)(r^2 - p^2 - q^2)\n",
    "(pa + 2qb)^2 + (a^2 + b^2)(r^2 - p^2 - q^2)\n",
    "$$\n",
    "\n",
    "We know $(2pa + 2qb)^2 \\geq 0$ because the square of any real number is $\\geq 0$.\n",
    "\n",
    "We know $(a^2 + b^2) \\geq 0$ because the sum of two numbers $\\geq 0$ is also $\\geq 0$.\n",
    "\n",
    "We know $(r^2 - p^2 - q^2) \\geq 0$ because we are given $p^2 + q^2 \\geq r^2$, and we can rearrange to find $(r^2 - p^2 - q^2) \\geq 0$.\n",
    "\n",
    "Building this up, we know $(a^2 + b^2)(r^2 - p^2 - q^2) \\geq 0$ because the product of two numbers $\\geq 0$ is also $\\geq 0$.\n",
    "\n",
    "And finally $(pa + 2qb)^2 - (a^2 + b^2)(p^2 + q^2 - r^2) \\geq 0$ because the sum of two numbers $\\geq 0$ is also $\\geq 0$.\n",
    "\n",
    "The equation for the intersection of the circle $S$ and any line through $P$ has real solutions, therefore there exists two points of intersection at the points given above."
   ],
   "metadata": {
    "collapsed": false,
    "pycharm": {
     "name": "#%% md\n"
    }
   }
  }
 ],
 "metadata": {
  "kernelspec": {
   "display_name": "Python 3",
   "language": "python",
   "name": "python3"
  },
  "language_info": {
   "codemirror_mode": {
    "name": "ipython",
    "version": 2
   },
   "file_extension": ".py",
   "mimetype": "text/x-python",
   "name": "python",
   "nbconvert_exporter": "python",
   "pygments_lexer": "ipython2",
   "version": "2.7.6"
  }
 },
 "nbformat": 4,
 "nbformat_minor": 0
}