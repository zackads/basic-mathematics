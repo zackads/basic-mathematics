{
 "cells": [
  {
   "cell_type": "code",
   "execution_count": null,
   "outputs": [],
   "source": [
    "from math import sqrt\n",
    "\n",
    "from matplotlib import pyplot as plt\n",
    "from lib.circle import circle\n",
    "from lib.lines import line\n",
    "from lib.points import add"
   ],
   "metadata": {
    "collapsed": false,
    "pycharm": {
     "name": "#%%\n",
     "is_executing": true
    }
   }
  },
  {
   "cell_type": "markdown",
   "source": [
    "# §3 - Lines\n",
    "\n",
    "[https://www.docdroid.net/K1VENuF/basic-mathematics-serge-lang-pdf#page=252](https://www.docdroid.net/K1VENuF/basic-mathematics-serge-lang-pdf#page=252)\n",
    "\n",
    "## The big ideas\n",
    "\n",
    "### Lines and set notation\n",
    "\n",
    "Lang builds on the definition of the ray and simply loosens the domain of t to the reals, also introducing *set notation*.  I like this -- it reinforces the concept in my mind of _geometric shapes as just infinite sets of points according to a rule(s)_.  In this case, the line is the infinite set of points in\n",
    "\n",
    "$$\n",
    "\\{P + tA\\}_{t \\in \\mathbb{R}}\n",
    "$$\n",
    "\n",
    "### Parallelism\n",
    "\n",
    "Two vectors/lines/segments are parallel if they have the same or opposite direction.  _(Could we extend this to say that *any* two objects with direction are parallel if their directions are equal or opposite?)_.\n",
    "\n",
    "We also prove the *transitive* and *reflexive* properties of parallelism:\n",
    "\n",
    "Prove: If $\\vec{P_1Q_1}$ is parallel to $\\vec{P_2Q_2}$, and if $\\vec{P_2Q_2}$ is parallel to $\\vec{P_3Q_3}$, then $\\vec{P_1Q_1}$ is parallel to $\\vec{P_3Q_3}$ (the transitive property)\n",
    "\n",
    "$$\n",
    "\\begin{align}\n",
    "\\vec{P_1Q_1} &= c\\vec{P_2Q_2} \\text{ for some } c \\neq 0 \\\\\n",
    "\\vec{P_2Q_2} &= c\\vec{P_3Q_3} \\text{ for some } c \\neq 0 \\\\\n",
    "\\vec{P_1Q_1} &= c^2\\vec{P_3Q_3}\n",
    "\\end{align}\n",
    "$$\n",
    "\n",
    "$\\vec{P_1Q_1}$ is a scalar multiple of $\\vec{P_3Q_3}$, so $\\vec{P_1Q_1} \\parallel \\vec{P_3Q_3}$ and the transitive property is proved.\n",
    "\n",
    "Prove: If $\\vec{PQ}$ is parallel to $\\vec{MN}$, then $\\vec{MN}$ is parallel to $\\vec{PQ}$.\n",
    "\n",
    "$$\n",
    "\\begin{align}\n",
    "\\vec{PQ} &= c\\vec{MN} \\\\\n",
    "\\frac{1}{c}\\vec{PQ} &= vec{MN} \\\\\n",
    "vec{MN} &= \\frac{1}{c}\\vec{PQ}\n",
    "\\end{align}\n",
    "$$\n",
    "\n",
    "$\\vec{MN}$ is a scalar multiple of $\\vec{PQ}$, so $\\vec{MN} \\parallel \\vec{PQ}$ and the reflexive property is proved.\n",
    "\n",
    "Lang also defines points as having parallelism (which a friend of mine thinks is nonsense).  _(Is it?)_\n",
    "\n",
    "### Parametric representations\n",
    "\n",
    "Something I don't quite understand: given two functions\n",
    "\n",
    "$$\n",
    "\\begin{align}\n",
    "f(x) &= 2x + 1 \\\\\n",
    "x(t) &= 1 - 3t, y(t) = 5 - 2t\n",
    "\\end{align}\n",
    "$$\n",
    "\n",
    "One is parameterised and one has an unknown.  I know that (from A-level) parametric functions allow us to represent things \"normal\" functions can't.  But what's the real difference between a parameter and an unknown?  I'm missing something here!\n",
    "\n",
    "### Intersections\n",
    "\n",
    "Lang finishes the chapter with a discussion of finding common points in geometric shapes (which are just sets of points!).  In geometric terms, we can say that a line and a circle intersect at a point.  In analytic terms, it's _exactly the same thing_: the intersection set of two sets of 2-tuples (one representing a line, the other a circle) is a set of a single 2-tuple.\n",
    "\n",
    "I'm starting to think of solving simultaneous equations as an operation on sets.  In other words, solving a system of equations is a way of finding the intersection of two or more sets, where each set is defined by an equation in the system.\n",
    "\n",
    "Sometimes you try to find an intersection but you can't.  Lang uses the example of a line that doesn't intersect the circle.  The quadratic that is produced has no real roots.  I'm interested to find out soon where the complex root comes in."
   ],
   "metadata": {
    "collapsed": false,
    "pycharm": {
     "name": "#%% md\n"
    }
   }
  },
  {
   "cell_type": "markdown",
   "source": [
    "## Exercises"
   ],
   "metadata": {
    "collapsed": false,
    "pycharm": {
     "name": "#%% md\n"
    }
   }
  },
  {
   "cell_type": "markdown",
   "source": [
    "For Exercises 1 through 6: (a) write down parametric representations of the lines passing through the indicated points $P$ and $Q$, (b) find the point of intersection of the line and the $x$-axis, (c) find the point of intersection of the line and the $y$-axis.\n",
    "\n",
    "## 1\n",
    "\n",
    "$P = (1, -1), Q = (3, 5)$\n",
    "\n",
    "a) $P + t(Q - P), t \\in \\mathbb{R} = (2t + 1, 6t - 1)$\n",
    "b) $y = 0 \\implies t = \\frac{1}{2}$, so the $x$-intercept is at $(0, -4)$\n",
    "c) $x = 0 \\implies t = \\frac{1}{6}$, so the $y$-intercept is at $(\\frac{4}{3}, 0)$\n",
    "\n",
    "## 2\n",
    "\n",
    "$P = (2, 1), Q = (4, -1)$\n",
    "\n",
    "a) $(2t + 2, 1 - 2t)$\n",
    "b) $(3, 0)$\n",
    "c) $(0, 3)$\n",
    "\n",
    "## 3\n",
    "\n",
    "$P = (-4, -2), Q = (-1, 1)$\n",
    "\n",
    "a) $(3t - 4, 3t - 2)$\n",
    "b) $(-2, 0)$\n",
    "c) $(0, 2)$\n",
    "\n",
    "## 4\n",
    "\n",
    "$P = (3, -1), Q = (1, 1)$\n",
    "\n",
    "a) $(3 + 2t, -2t -1)$\n",
    "b) $(2, 0)$\n",
    "c) $(0, 2)$\n",
    "\n",
    "## 5\n",
    "\n",
    "$P = (3, -5), Q = (-2, 6)$\n",
    "\n",
    "a) $(5t + 3, -11t - 5)$\n",
    "b) $(-\\frac{58}{11}, 3)$\n",
    "c) $(0, 0)$\n",
    "\n",
    "## 6\n",
    "\n",
    "$P = (-1, 4), Q = (-1, -3)$\n",
    "\n",
    "a) $(-1, 7t + 4)$\n",
    "b) $(-1, 0)$\n",
    "c) Does not intercept the $y$-axis."
   ],
   "metadata": {
    "collapsed": false,
    "pycharm": {
     "name": "#%% md\n"
    }
   }
  },
  {
   "cell_type": "markdown",
   "source": [
    "One airplane moves along a straight line in the plane, starting at a point $P$ in the direction of $A$.  Another plane also moves along a straight line, starting at a point $Q$ in the direction of $B$.  Find the point at which they may collide if $P$, $Q$, $A$, $B$ are given by the following values.  Draw the two lines."
   ],
   "metadata": {
    "collapsed": false,
    "pycharm": {
     "name": "#%% md\n"
    }
   }
  },
  {
   "cell_type": "markdown",
   "source": [
    "## 7\n",
    "\n",
    "$P = (1, -1)$, $Q = (3, 5)$, $A = (-3, 1)$, B = (2, -1)\n",
    "\n",
    "Write the lines analytically.\n",
    "\n",
    "$$\n",
    "\\begin{align}\n",
    "(1, -1) + t(-3, 1) \\\\\n",
    "(3, 5) + s(2, -1)\n",
    "\\end{align}\n",
    "$$\n",
    "\n",
    "Set up a system of equations at the point of intersection, such that the system will be solvable if the two lines intersect.\n",
    "\n",
    "\\begin{align}\n",
    "1 - 3t &= 2s + 3\n",
    "t - 1 &= 5 - s\n",
    "\\end{align}\n",
    "\n",
    "\n",
    "\n",
    "Solve simultaneously for one of the scalar multipliers.\n",
    "\n"
   ],
   "metadata": {
    "collapsed": false,
    "pycharm": {
     "name": "#%% md\n"
    }
   }
  },
  {
   "cell_type": "markdown",
   "source": [
    "## 12\n",
    "\n",
    "Let $A = (a_1, a_2)$ and $B = (b_1, b_2)$.  Assume that $A \\neq O$ and $B \\neq O$.  Prove that $A$ is parallel to $B$ if and only if\n",
    "\n",
    "$$a_1b_2 - a_2b_1 = 0$$\n",
    "\n",
    "---\n",
    "We recall the definition of parallelism between two points: A and B are parallel iff one is a scalar multiple of the other, i.e.\n",
    "\n",
    "$A = cB$\n",
    "\n",
    "We can write this in point form:\n",
    "\n",
    "$$(a_1, b_1) = c(a_2, b_2) \\\\\n",
    "= (ca_2, cb_2)$$\n",
    "\n",
    "And express $c$ in terms of the coordinates of $A$ and $B$:\n",
    "\n",
    "$$\n",
    "\\begin{align}\n",
    "a_1 &= ca_2 \\\\\n",
    "c &= \\frac{a_1}{a_2}\n",
    "\\end{align}\n",
    "$$\n",
    "\n",
    "$$\n",
    "\\begin{align}\n",
    "b_1 &= cb_2 \\\\\n",
    "c &= \\frac{b_1}{b_2}\n",
    "\\end{align}\n",
    "$$\n",
    "\n",
    "Equating the two expressions for $c$ we now have\n",
    "\n",
    "$$\n",
    "\\begin{align}\n",
    "\\frac{a_1}{a_2} &= \\frac{b_1}{b_2} \\\\\n",
    "a_1b_2 &= a_2b_1 \\\\\n",
    "a_1b_2 - a_2b_1 &= 0\n",
    "\\end{align}\n",
    "$$\n",
    "\n",
    "Which is the equation given.\n",
    "\n",
    "If $c$ exists, i.e. $A$ and $B$ are parallel, then the expression $a_1b_2 - a_2b_1 = 0$ is true and so the statement is proved."
   ],
   "metadata": {
    "collapsed": false,
    "pycharm": {
     "name": "#%% md\n"
    }
   }
  },
  {
   "cell_type": "markdown",
   "source": [
    "### 13\n",
    "\n",
    "Prove: If two lines are not parallel, then they have exactly one point in common.\n",
    "\n",
    "---\n",
    "\n",
    "Let the two lines be represented parametrically by\n",
    "\n",
    "$$\n",
    "\\begin{align}\n",
    "{P + tA}_{t in \\mathbb{R}} &= {(p_1, p_2) + t(a_1, a_2)}_{t in \\mathbb{R}} \\\\\n",
    "{Q + sB}_{s in \\mathbb{R}} &= {(q_1, q_2) + s(b_1, b_2)}_{s in \\mathbb{R}}\n",
    "\\end{align}\n",
    "$$\n",
    "\n",
    "We must find the values of $s$ and $t$ such that\n",
    "\n",
    "$$\n",
    "\\begin{align}\n",
    "p_1 + ta_1 &= q_1 + sb_1 \\\\\n",
    "p_2 + ta_2 &= q_2 + sb_2\n",
    "\\end{align}\n",
    "$$\n",
    "\n",
    "or, in other words\n",
    "\n",
    "$$\n",
    "\\begin{align}\n",
    "ta_1 - sb_1 &= q_1 - p_1 \\\\\n",
    "ta_2 - sb_2 &= q_2 - p_2\n",
    "\\end{align}\n",
    "$$\n",
    "\n",
    "Re-arranging in terms of $t$\n",
    "\n",
    "$$\n",
    "\\begin{align}\n",
    "ta_1 &= q_1 - p_1 + sb_1 \\\\\n",
    "t &= \\frac{q_1 - p_1 + sb_1}{a_1}\n",
    "\\end{align}\n",
    "$$\n",
    "\n",
    "$$\n",
    "\\begin{align}\n",
    "ta_2 &= q_2 - p_2 + sb_2 \\\\\n",
    "t &= \\frac{q_2 - p_2 + sb_2}{a_2}\n",
    "\\end{align}\n",
    "$$\n",
    "\n",
    "$$\n",
    "\\begin{align}\n",
    "\\frac{q_1 - p_1 + sb_1}{a_1} &= \\frac{q_2 - p_2 + sb_2}{a_2} \\\\\n",
    "a_2(q_1 - p_1 + sb_1) &= a_1(q_2 - p_2 + sb_2) \\\\\n",
    "a_2q_1 - a_2p_1 + sa_2b_1 &= a_1q_2 - a_1p_2 + sa_1b_2 \\\\\n",
    "sa_2b_1 - sa_1b_2 &= a_1q_2 - a_1p_2 - a_2q_1 + a_2p_1 \\\\\n",
    "s(a_2b_1 - a_1b_2) &= a_1q_2 - a_1p_2 - a_2q_1 + a_2p_1 \\\\\n",
    "s &= \\frac{a_1q_2 - a_1p_2 - a_2q_1 + a_2p_1}{a_2b_1 - a_1b_2} \\\\\n",
    "s &= \\frac{a_1(q_2 - p_2) - a_2(q_1 + p_1)}{a_2b_1 - a_1b_2}\n",
    "\\end{align}\n",
    "$$\n",
    "\n",
    "We have a value for $s$ in terms of known coordinates.  Substituting this value of $s$ into one of the equations for $t$:\n",
    "\n",
    "$$\n",
    "t = \\frac{q_1 - p_1 + (\\frac{a_1(q_2 - p_2) - a_2(q_1 + p_1)}{a_2b_1 - a_1b_2})b_1}{a_1}\n",
    "$$\n",
    "\n",
    "Thus, the system of equations for $s$ and $t$ can be solved and so the two lines intersect.  The statement is proved."
   ],
   "metadata": {
    "collapsed": false,
    "pycharm": {
     "name": "#%% md\n"
    }
   }
  },
  {
   "cell_type": "markdown",
   "source": [
    "### 14\n",
    "\n",
    "Find the points of intersection of the given line ${P + tA}_t \\in \\mathbb{R}$ and the circle of radius $8$ centered at the origin, when $P$, $A$ are as indicated.  If there are no such points, say so, and why.  Draw the line and circle.\n",
    "\n",
    "a) $P = (1, -1)$, $A = (-3, 1)$\n",
    "b) $P = (2, -3)$, $A = (1, 1)$\n",
    "c) $P = (-2, 1)$, $A = (3, 5)$\n",
    "d) $P = (3, 1)$, $A = (-2, -4)$\n",
    "\n",
    "---\n",
    "\n",
    "a)  $P = (1, -1)$, $A = (-3, 1)$.  Express the line $P + tA$ parametrically:\n",
    "\n",
    "$$\n",
    "x(t) = 1 - 3t \\\\\n",
    "y(t) = t - 1\n",
    "$$\n",
    "\n",
    "Substitute into the equation for the circle\n",
    "\n",
    "$$\n",
    "(1 - 3t)^2 + (t - 1)^2 = 8^2\n",
    "$$\n",
    "\n",
    "Re-arrange into a quadratic in $t$\n",
    "\n",
    "$$10t^2 - 8t - 62 = 0$$\n",
    "\n",
    "And solve\n",
    "\n",
    "$$t = \\frac{{2} \\pm \\sqrt{159}}{5}$$\n",
    "\n",
    "Find the two values of $x$ and $y$:\n",
    "\n",
    "$$\n",
    "x(\\frac{{2} + \\sqrt{159}}{5}) = \\frac{-1 - 3\\sqrt{159}}{5} \\\\\n",
    "y(\\frac{{2} + \\sqrt{159}}{5}) = \\frac{-3 + \\sqrt{159}}{5}\n",
    "$$\n",
    "\n",
    "$$\n",
    "x(\\frac{{2} - \\sqrt{159}}{5}) = \\frac{-1 + 3\\sqrt{159}}{5} \\\\\n",
    "y(\\frac{{2} - \\sqrt{159}}{5}) = \\frac{-3 - \\sqrt{159}}{5}\n",
    "$$\n",
    "\n",
    "Therefore, the intersections of the circle by the line occur at $(\\frac{-1 - 3\\sqrt{159}}{5}, \\frac{-3 + \\sqrt{159}}{5})$ and $(\\frac{-1 + 3\\sqrt{159}}{5}, \\frac{-3 - \\sqrt{159}}{5})$."
   ],
   "metadata": {
    "collapsed": false,
    "pycharm": {
     "name": "#%% md\n"
    }
   }
  },
  {
   "cell_type": "code",
   "execution_count": null,
   "outputs": [],
   "source": [
    "# (a)\n",
    "C = circle(8)\n",
    "P = (1, -1)\n",
    "A = (-3, 1)\n",
    "L = line(P, A, upper=10, lower=-10)\n",
    "I_1 = ((-1 - 3 * sqrt(159)) / 5, (-3 + sqrt(159)) / 5)\n",
    "I_2 = ((-1 + 3 * sqrt(159)) / 5, (-3 - sqrt(159)) / 5)\n",
    "\n",
    "plt.gca().set_aspect('equal')\n",
    "plt.xlim([-10, 10])\n",
    "plt.ylim([-10, 10])\n",
    "\n",
    "plt.scatter(*zip(*C), s=0.1)\n",
    "plt.scatter(*zip(*L), s=0.1)\n",
    "plt.plot(*I_1, 'o')\n",
    "plt.plot(*I_2, 'o')\n",
    "plt.plot(*P, 'o')\n",
    "plt.plot(*add(P, A), 'o')"
   ],
   "metadata": {
    "collapsed": false,
    "pycharm": {
     "name": "#%%\n",
     "is_executing": true
    }
   }
  },
  {
   "cell_type": "markdown",
   "source": [
    "b) $P = (2, -3)$, $A = (1, 1)$\n",
    "\n",
    "The line $\\{P + tA\\}_{t \\in \\mathbb{R}}$ intersects the circle at $(\\frac{5+\\sqrt{103}}{2}, \\frac{-5 + \\sqrt{103}}{2})$ and $(\\frac{5 - \\sqrt{103}}{2}, \\frac{-5 - \\sqrt{103}}{2})$."
   ],
   "metadata": {
    "collapsed": false,
    "pycharm": {
     "name": "#%% md\n"
    }
   }
  },
  {
   "cell_type": "code",
   "execution_count": null,
   "outputs": [],
   "source": [
    "# (b)\n",
    "C = circle(8)\n",
    "P = (2, -3)\n",
    "A = (1, 1)\n",
    "L = line(P, A, upper=10, lower=-10)\n",
    "I_1 = ((5 + sqrt(103)) / 2, (-5 + sqrt(103)) / 2)\n",
    "I_2 = ((5 - sqrt(103)) / 2, (-5 - sqrt(103)) / 2)\n",
    "\n",
    "plt.gca().set_aspect('equal')\n",
    "plt.xlim([-10, 10])\n",
    "plt.ylim([-10, 10])\n",
    "\n",
    "plt.scatter(*zip(*C), s=0.1)\n",
    "plt.scatter(*zip(*L), s=0.1)\n",
    "plt.plot(*I_1, 'o')\n",
    "plt.plot(*I_2, 'o')\n",
    "plt.plot(*P, 'o')\n",
    "plt.plot(*add(P, A), 'o')"
   ],
   "metadata": {
    "collapsed": false,
    "pycharm": {
     "name": "#%%\n",
     "is_executing": true
    }
   }
  },
  {
   "cell_type": "markdown",
   "source": [
    "c) $P = (-2, 1)$, $A = (3, 5)$\n",
    "\n",
    "$(\\frac{-65 + 93\\sqrt{2}}{34}, \\frac{39 + 155\\sqrt{2}}{34})$ and $(\\frac{-65 - 93\\sqrt{2}}{34}, \\frac{39 - 155\\sqrt{2}}{34})$."
   ],
   "metadata": {
    "collapsed": false,
    "pycharm": {
     "name": "#%% md\n"
    }
   }
  },
  {
   "cell_type": "code",
   "execution_count": null,
   "outputs": [],
   "source": [
    "# (c)\n",
    "C = circle(8)\n",
    "P = (-2, 1)\n",
    "A = (3, 5)\n",
    "L = line(P, A, upper=10, lower=-10)\n",
    "I_1 = ((-65 + 93 * sqrt(2)) / 34, (39 + 155 * sqrt(2)) / 34)\n",
    "I_2 = ((-65 - 93 * sqrt(2)) / 34, (39 - 155 * sqrt(2)) / 34)\n",
    "\n",
    "plt.gca().set_aspect('equal')\n",
    "plt.xlim([-10, 10])\n",
    "plt.ylim([-10, 10])\n",
    "\n",
    "plt.scatter(*zip(*C), s=0.1)\n",
    "plt.scatter(*zip(*L), s=0.1)\n",
    "plt.plot(*I_1, 'o')\n",
    "plt.plot(*I_2, 'o')\n",
    "plt.plot(*P, 'o')\n",
    "plt.plot(*add(P, A), 'o')"
   ],
   "metadata": {
    "collapsed": false,
    "pycharm": {
     "name": "#%%\n",
     "is_executing": true
    }
   }
  },
  {
   "cell_type": "markdown",
   "source": [
    "d) $P = (3, 1)$, $A = (-2, -4)$\n",
    "\n",
    "$(\\frac{10 + \\sqrt{295}}{5}, \\frac{-5 + 2\\sqrt{295}}{5})$ and $(\\frac{10 - \\sqrt{295}}{5}, \\frac{-5 - 2\\sqrt{295}}{5})$."
   ],
   "metadata": {
    "collapsed": false,
    "pycharm": {
     "name": "#%% md\n"
    }
   }
  },
  {
   "cell_type": "code",
   "execution_count": null,
   "outputs": [],
   "source": [
    "# (d)\n",
    "C = circle(8)\n",
    "P = (3, 1)\n",
    "A = (-2, -4)\n",
    "L = line(P, A, upper=10, lower=-10)\n",
    "I_1 = ((10 + sqrt(295)) / 5, (-5 + 2 * sqrt(295)) / 5)\n",
    "I_2 = ((10 - sqrt(295)) / 5, (-5 - 2 * sqrt(295)) / 5)\n",
    "\n",
    "plt.gca().set_aspect('equal')\n",
    "plt.xlim([-10, 10])\n",
    "plt.ylim([-10, 10])\n",
    "\n",
    "plt.scatter(*zip(*C), s=0.1)\n",
    "plt.scatter(*zip(*L), s=0.1)\n",
    "plt.plot(*I_1, 'o')\n",
    "plt.plot(*I_2, 'o')\n",
    "plt.plot(*P, 'o')\n",
    "plt.plot(*add(P, A), 'o')"
   ],
   "metadata": {
    "collapsed": false,
    "pycharm": {
     "name": "#%%\n",
     "is_executing": true
    }
   }
  },
  {
   "cell_type": "markdown",
   "source": [
    "## 15\n",
    "\n",
    "Given (a), (b), (c), (d) as in Exercise 14.  Find the points of intersection of the lines and the circle of radius 2 centered at the origin.\n",
    "\n",
    "---\n",
    "\n",
    "Find parametric equations for the $x$- and $y$-coordinates as functions of $t$.\n",
    "\n",
    "a) $x(t) = 1 - 3t, y(t) = t - 1$\n",
    "b) $x(t) = t + 2, y(t) = t - 3$\n",
    "c) $x(t) = 3t - 2, y(t) = 5t + 1$\n",
    "d) $x(t) = 3t - 2, y(t) = 1 - 4t$\n",
    "\n",
    "The equation for this circle is\n",
    "\n",
    "$$\n",
    "x^2 + y^2 = 4\n",
    "$$\n",
    "\n",
    "Substitute and solve\n",
    "\n",
    "a) $(1 - 3t)^2 + (t - 1)^2 = 4$\n",
    "$t = 1$ or $t = -\\frac{1}{5}$\n",
    "$\\therefore$ intersections are at $(-2, 0)$ and $(\\frac{8}{5}, -\\frac{6}{5})$.\n",
    "\n",
    "b) $(t + 2)^2 + (t - 3)^2 = 4$\n",
    "The discriminant $> 0$, so there are no real solutions for $t$, and therefore no intersection.\n",
    "\n",
    "c) No intersections.\n",
    "\n",
    "d) No intersections."
   ],
   "metadata": {
    "collapsed": false,
    "pycharm": {
     "name": "#%% md\n"
    }
   }
  },
  {
   "cell_type": "markdown",
   "source": [
    "## 16\n",
    "\n",
    "No intersections for any of the given lines and the circle of radius $1$ centered at $(1,1)$."
   ],
   "metadata": {
    "collapsed": false,
    "pycharm": {
     "name": "#%% md\n"
    }
   }
  },
  {
   "cell_type": "markdown",
   "source": [
    "## 17\n",
    "\n",
    "Intersections at $(1, -1)$, $(-\\frac{13}{5}, \\frac{1}{5})$, $(\\frac{61-4\\sqrt{6}}{25}, -\\frac{3+8\\sqrt{6}}{25})$ and $(-\\frac{13}{5}, \\frac{1}{5}), (\\frac{61+4\\sqrt{6}}{25}, -\\frac{-3+8\\sqrt{6}}{25})$."
   ],
   "metadata": {
    "collapsed": false,
    "pycharm": {
     "name": "#%% md\n"
    }
   }
  },
  {
   "cell_type": "markdown",
   "source": [
    "### 18\n",
    "\n",
    "Let $S$ be the circle of radius $r > 0$ centered at the origin.  Let $P = (p, q)$ be a point such that\n",
    "\n",
    "$$p^2 + q^2 \\leq r^2$$\n",
    "\n",
    "In other words, $P$ is a point in the disc of radius $r$ centered at $O$.  Show that any line passing through $P$ must intersect the circle, and find the points of intersection.\n",
    "\n",
    "---\n",
    "\n",
    "Let $P + tA$ be a line where $A = (a, b)$.\n",
    "\n",
    "We can express this in terms of coordinates\n",
    "\n",
    "$$(p, q) + t(a, b)$$\n",
    "\n",
    "And express each coordinate as a parameterized function of $t$\n",
    "\n",
    "$$\n",
    "x(t) = p + ta \\\\\n",
    "y(t) = q + tb\n",
    "$$\n",
    "\n",
    "Then substitute into the equation for the circle $S$\n",
    "\n",
    "$$\n",
    "x^2 + y^2 = r^2 \\\\\n",
    "(p + ta)^2 + (q + tb)^2 = r^2\n",
    "$$\n",
    "\n",
    "And expand and rearrange into the form of a quadratic\n",
    "\n",
    "$$\n",
    "(a^2 + b^2)t^2 + (2pa + 2qb)t + (p^2 + q^2) = r^2\n",
    "$$\n",
    "\n",
    "Substituting the coefficients into the quadratic formula we have\n",
    "\n",
    "$$\n",
    "t = \\frac{-(2pa + 2qb) \\pm \\sqrt{(2pa + 2qb)^2 - 4(a^2 + b^2)(p^2 + q^2)}}{2(a^2 + b^2)}\n",
    "$$\n",
    "\n",
    "Which we can use to find the values of $x$ and $y$ at the intercepts\n",
    "\n",
    "$$\n",
    "x(t_1) = p + (\\frac{-(2pa + 2qb) + \\sqrt{(2pa + 2qb)^2 - 4(a^2 + b^2)(p^2 + q^2)}}{2(a^2 + b^2)})a \\\\\n",
    "y(t_1) = q + (\\frac{-(2pa + 2qb) + \\sqrt{(2pa + 2qb)^2 - 4(a^2 + b^2)(p^2 + q^2)}}{2(a^2 + b^2)})b \\\\\n",
    "x(t_2) = p + (\\frac{-(2pa + 2qb) - \\sqrt{(2pa + 2qb)^2 - 4(a^2 + b^2)(p^2 + q^2)}}{2(a^2 + b^2)})a \\\\\n",
    "y(t_2) = q + (\\frac{-(2pa + 2qb) - \\sqrt{(2pa + 2qb)^2 - 4(a^2 + b^2)(p^2 + q^2)}}{2(a^2 + b^2)})b\n",
    "$$\n",
    "\n",
    "Therefore, the coordinates of the intercepts are\n",
    "\n",
    "$$\n",
    "(p + (\\frac{-(2pa + 2qb) + \\sqrt{(2pa + 2qb)^2 - 4(a^2 + b^2)(p^2 + q^2)}}{2(a^2 + b^2)})a, q + (\\frac{-(2pa + 2qb) + \\sqrt{(2pa + 2qb)^2 - 4(a^2 + b^2)(p^2 + q^2)}}{2(a^2 + b^2)})b)\n",
    "$$\n",
    "\n",
    "and\n",
    "\n",
    "$$\n",
    "(p + (\\frac{-(2pa + 2qb) - \\sqrt{(2pa + 2qb)^2 - 4(a^2 + b^2)(p^2 + q^2)}}{2(a^2 + b^2)})a, q + (\\frac{-(2pa + 2qb) - \\sqrt{(2pa + 2qb)^2 - 4(a^2 + b^2)(p^2 + q^2)}}{2(a^2 + b^2)})b)\n",
    "$$\n",
    "\n",
    "To show that $(x(t_1), y(t_1))$ and $(x(t_2), y(t_2))$ are both $\\in S$, we can show that the discriminant $\\gt 0$, because otherwise $t$ would have no real solutions and there would be no intersection.\n",
    "\n",
    "So we must show that\n",
    "\n",
    "$$\n",
    "(2pa + 2qb)^2 - 4(a^2 + b^2)(p^2 + q^2) \\geq 0\n",
    "$$\n",
    "\n",
    "_(I got lost in an algebraic quagmire here trying to show that $4(a^2 + b^2)(p^2 + q^2) \\leq (2pa + 2qb)^2$, after which I looked at the back of the book and realised... I'd dropped the r^2 from the equation for the intersection.  The rest is my work after I'd seen the \"correct\" answer)_\n",
    "\n",
    "...\n",
    "\n",
    "Substituting the coefficients into the quadratic formula we have\n",
    "\n",
    "$$\n",
    "t = \\frac{-(2pa + 2qb) \\pm \\sqrt{(2pa + 2qb)^2 - 4(a^2 + b^2)(p^2 + q^2)}}{2(a^2 + b^2 - r^2)}\n",
    "$$\n",
    "\n",
    "Which we can use to find the values of $x$ and $y$ at the intercepts\n",
    "\n",
    "$$\n",
    "x(t_1) = p + (\\frac{-(2pa + 2qb) + \\sqrt{(2pa + 2qb)^2 - 4(a^2 + b^2)(p^2 + q^2)}}{2(a^2 + b^2 - r^2)})a \\\\\n",
    "y(t_1) = q + (\\frac{-(2pa + 2qb) + \\sqrt{(2pa + 2qb)^2 - 4(a^2 + b^2)(p^2 + q^2)}}{2(a^2 + b^2 - r^2)})b \\\\\n",
    "x(t_2) = p + (\\frac{-(2pa + 2qb) - \\sqrt{(2pa + 2qb)^2 - 4(a^2 + b^2)(p^2 + q^2)}}{2(a^2 + b^2 - r^2)})a \\\\\n",
    "y(t_2) = q + (\\frac{-(2pa + 2qb) - \\sqrt{(2pa + 2qb)^2 - 4(a^2 + b^2)(p^2 + q^2)}}{2(a^2 + b^2 - r^2)})b\n",
    "$$\n",
    "\n",
    "Therefore, the coordinates of the intercepts are\n",
    "\n",
    "$$\n",
    "(p + (\\frac{-(2pa + 2qb) + \\sqrt{(2pa + 2qb)^2 - 4(a^2 + b^2 - r^2)(p^2 + q^2)}}{2(a^2 + b^2)})a, q + (\\frac{-(2pa + 2qb) + \\sqrt{(2pa + 2qb)^2 - 4(a^2 + b^2)(p^2 + q^2)}}{2(a^2 + b^2 - r^2)})b)\n",
    "$$\n",
    "\n",
    "and\n",
    "\n",
    "$$\n",
    "(p + (\\frac{-(2pa + 2qb) - \\sqrt{(2pa + 2qb)^2 - 4(a^2 + b^2 - r^2)(p^2 + q^2)}}{2(a^2 + b^2)})a, q + (\\frac{-(2pa + 2qb) - \\sqrt{(2pa + 2qb)^2 - 4(a^2 + b^2)(p^2 + q^2)}}{2(a^2 + b^2 - r^2)})b)\n",
    "$$\n",
    "\n",
    "To show that $(x(t_1), y(t_1))$ and $(x(t_2), y(t_2))$ are both $\\in S$, we can show that the discriminant $\\gt 0$, because otherwise $t$ would have no real solutions and there would be no intersection.\n",
    "\n",
    "So we must show that\n",
    "\n",
    "$$\n",
    "(2pa + 2qb)^2 - 4(a^2 + b^2)(p^2 + q^2 - r^2) \\geq 0\n",
    "$$\n",
    "\n",
    "Simplified by factoring out 2^2 from the first term and dividing through by 4\n",
    "\n",
    "$$\n",
    "(pa + 2qb)^2 - (a^2 + b^2)(p^2 + q^2 - r^2) \\geq 0\n",
    "$$\n",
    "\n",
    "We can show this by re-arranging the signs of the discriminant\n",
    "\n",
    "$$\n",
    "(pa + 2qb)^2 - (a^2 + b^2)(p^2 + q^2 - r^2)\n",
    "(pa + 2qb)^2 - (a^2 + b^2)(-1)(r^2 - p^2 - q^2)\n",
    "(pa + 2qb)^2 + (a^2 + b^2)(r^2 - p^2 - q^2)\n",
    "$$\n",
    "\n",
    "We know $(2pa + 2qb)^2 \\geq 0$ because the square of any real number is $\\geq 0$.\n",
    "\n",
    "We know $(a^2 + b^2) \\geq 0$ because the sum of two numbers $\\geq 0$ is also $\\geq 0$.\n",
    "\n",
    "We know $(r^2 - p^2 - q^2) \\geq 0$ because we are given $p^2 + q^2 \\geq r^2$, and we can rearrange to find $(r^2 - p^2 - q^2) \\geq 0$.\n",
    "\n",
    "Building this up, we know $(a^2 + b^2)(r^2 - p^2 - q^2) \\geq 0$ because the product of two numbers $\\geq 0$ is also $\\geq 0$.\n",
    "\n",
    "And finally $(pa + 2qb)^2 - (a^2 + b^2)(p^2 + q^2 - r^2) \\geq 0$ because the sum of two numbers $\\geq 0$ is also $\\geq 0$.\n",
    "\n",
    "The equation for the intersection of the circle $S$ and any line through $P$ has real solutions, therefore there exists two points of intersection at the points given above."
   ],
   "metadata": {
    "collapsed": false,
    "pycharm": {
     "name": "#%% md\n"
    }
   }
  }
 ],
 "metadata": {
  "kernelspec": {
   "display_name": "Python 3",
   "language": "python",
   "name": "python3"
  },
  "language_info": {
   "codemirror_mode": {
    "name": "ipython",
    "version": 2
   },
   "file_extension": ".py",
   "mimetype": "text/x-python",
   "name": "python",
   "nbconvert_exporter": "python",
   "pygments_lexer": "ipython2",
   "version": "2.7.6"
  }
 },
 "nbformat": 4,
 "nbformat_minor": 0
}