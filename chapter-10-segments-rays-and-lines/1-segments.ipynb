{
 "cells": [
  {
   "cell_type": "code",
   "execution_count": null,
   "metadata": {
    "collapsed": true,
    "pycharm": {
     "name": "#%%\n"
    }
   },
   "outputs": [],
   "source": []
  },
  {
   "cell_type": "markdown",
   "source": [
    "# §1 - Segments\n",
    "\n",
    "https://www.docdroid.net/K1VENuF/basic-mathematics-serge-lang-pdf#page=245\n",
    "\n",
    "With an analytical basis for points in planes and spaces from chapter 9, we can expand our mathematical universe to include collections of points that can also be described analytically (that is, using algebraic expressions).\n",
    "\n",
    "This chapter is concerned with subsets of lines with direction: line segments, rays, vectors.\n",
    "\n",
    "## The big ideas\n",
    "\n",
    "### Line segments\n",
    "\n",
    "A **line segment** is the region of a line between two points, defined analytically as:\n",
    "\n",
    "$$P + tA$$\n",
    "\n",
    "for $0 \\leq t \\leq 1$, where $A = Q - P$.\n",
    "\n",
    "This definition says we can construct a line segment by:\n",
    "\n",
    "1. Translating $P$ and $Q$ such that $P'$ is at the origin and let $A = Q'$.\n",
    "2. Constructing a set of all points between $O$ and $A$ (i.e. $O + tA$, for $0 \\leq t \\leq 1$).\n",
    "3. Translating the set of points back to $P$ by reversing the translation at step 1.\n",
    "\n",
    "Lang then goes onto prove that $\\bar{PQ} = \\bar{QP}$ by performing the construction of points between $O$ and $A$ the other way around.\n",
    "\n",
    "### Vectors\n",
    "\n",
    "A **located vector** is an ordered pair of points, denoted by\n",
    "\n",
    "$$\\vec{PQ}$$\n",
    "\n",
    "for two points $P$ and $Q$.\n",
    "\n",
    "Stripping away geometry, we can think entirely analytically about a located vector as an ordered pair of ordered pairs!\n",
    "\n",
    "### Rays\n",
    "\n",
    "A ray is like a vector but with only one limit, at its vertex.  The other side is infinite.  In Lang's analytic definition, a ray is the set of all points\n",
    "\n",
    "$$P + tA$$\n",
    "\n",
    "for points $P$ and $A$, and $t \\geq 0$.\n",
    "\n",
    "(The concept of (1) translate to the origin (2) perform transformation (3) translate back crops up here too.)\n",
    "\n",
    "### Direction\n",
    "\n",
    "We can use geometric intuition to tell whether two lines/vectors/rays/other directed objects have the same direction, but an analytic definition gives us certainty (as well as allowing us to operate in dimensions we can't visualise!)\n",
    "\n",
    "Lang gives an analytic definition of the direction of located vectors as one being the scalar multiple of the other:\n",
    "\n",
    "$$Q - P = c(N - M)$$\n",
    "\n",
    "for two vectors $\\vec{PQ}$ and $\\vec{MN}$."
   ],
   "metadata": {
    "collapsed": false,
    "pycharm": {
     "name": "#%% md\n"
    }
   }
  },
  {
   "cell_type": "markdown",
   "source": [
    "## Exercises\n",
    "\n",
    "Let $P$, $Q$ be the indicated points.  Give the coordinates of the point\n",
    "\n",
    "a) halfway,\n",
    "b) one-third of the way,\n",
    "c) two-thirds of the way\n",
    "\n",
    "between $P$ and $Q$.\n",
    "\n",
    "### 1\n",
    "\n",
    "$P = (1, 5), Q = (3, -1)$\n",
    "\n",
    "a) $(2,2)$\n",
    "b) $(\\frac{5}{3}, 3)$\n",
    "c) $(\\frac{7}{3}, 1)$\n",
    "\n",
    "### 2\n",
    "\n",
    "$P = (2, 4), Q = (3, 7)$\n",
    "\n",
    "a) $(\\frac{5}{2}, \\frac{11}{2})$\n",
    "b) $(\\frac{7}{3}, 5)$\n",
    "c) $(\\frac{8}{3}, 6)$\n",
    "\n",
    "### 3\n",
    "\n",
    "$P = (-3, -2), Q = (-4, 5)$\n",
    "\n",
    "a) $(-\\frac{5}{2}, \\frac{3}{2})$\n",
    "b) $(-\\frac{8}{3}, \\frac{1}{3})$\n",
    "c) $(-\\frac{7}{3}, -\\frac{5}{3})$\n",
    "\n",
    "### 4\n",
    "\n",
    "$P = (-5, -1), Q = (4, 6)$\n",
    "\n",
    "a) $(-\\frac{1}{2}, \\frac{5}{2})$\n",
    "b) $(-2, \\frac{4}{3})$\n",
    "c) $(-1, \\frac{11}{3})$"
   ],
   "metadata": {
    "collapsed": false,
    "pycharm": {
     "name": "#%% md\n"
    }
   }
  },
  {
   "cell_type": "markdown",
   "source": [
    "### 5\n",
    "\n",
    "Prove that the image of the line segment $\\overline{PQ}$ under translation $T_A$ is also a line segment.  What are the end points of this image?\n",
    "\n",
    "---\n",
    "\n",
    "_Can we examine this in more detail?  I couldn't get the proof, and when I look at the answer in the [back of the book](https://www.docdroid.net/K1VENuF/basic-mathematics-serge-lang-pdf#page=470) I think \"How was I supposed to get that?\"_\n",
    "\n",
    "Rough working:\n",
    "\n",
    "Let $M = Q - P$.  Therefore\n",
    "\n",
    "$$\\overline{PQ} = P + tM$$\n",
    "\n",
    "for $0 \\leq t \\leq 1$ by the definition of a line segment.\n",
    "\n",
    "$$\n",
    "T_A(PQ) = P + tM + A\n",
    "= ?\n",
    "$$\n",
    "\n",
    "We can now apply the transformation $T_A$ to both sides\n",
    "\n",
    "$$T_A(\\overline{PQ}) = T_A(P + tM)$$\n",
    "\n",
    "so every point on the image has been translated by $T_A$.\n",
    "\n",
    "This means $P$ and $Q$ have also been translated by $T_A$ such that\n",
    "\n",
    "$$\n",
    "T_A(P) = P + A \\\\\n",
    "T_A(Q) = Q + A\n",
    "$$\n",
    "\n",
    "$$P + A + t(M + A)$$\n",
    "\n",
    "But how to show that ever point between $T_A(P)$ and $T_A(Q)$ comprises the line segment $\\overline{T_A(P)T_A(Q)}$?"
   ],
   "metadata": {
    "collapsed": false,
    "pycharm": {
     "name": "#%% md\n"
    }
   }
  },
  {
   "cell_type": "code",
   "execution_count": null,
   "outputs": [],
   "source": [],
   "metadata": {
    "collapsed": false,
    "pycharm": {
     "name": "#%%\n"
    }
   }
  }
 ],
 "metadata": {
  "kernelspec": {
   "display_name": "Python 3",
   "language": "python",
   "name": "python3"
  },
  "language_info": {
   "codemirror_mode": {
    "name": "ipython",
    "version": 2
   },
   "file_extension": ".py",
   "mimetype": "text/x-python",
   "name": "python",
   "nbconvert_exporter": "python",
   "pygments_lexer": "ipython2",
   "version": "2.7.6"
  }
 },
 "nbformat": 4,
 "nbformat_minor": 0
}