{
 "cells": [
  {
   "cell_type": "code",
   "execution_count": 1,
   "metadata": {
    "collapsed": true,
    "pycharm": {
     "name": "#%%\n"
    }
   },
   "outputs": [],
   "source": []
  },
  {
   "cell_type": "markdown",
   "source": [
    "# §1 - Segments\n",
    "\n",
    "https://www.docdroid.net/K1VENuF/basic-mathematics-serge-lang-pdf#page=245\n",
    "\n",
    "With an analytical basis for points in planes and spaces from chapter 9, we can expand our mathematical universe to include collections of points that can also be described analytically (that is, using algebraic expressions).\n",
    "\n",
    "This chapter is concerned with subsets of lines with direction: line segments, rays, vectors.\n",
    "\n",
    "## The big ideas\n",
    "\n",
    "### Line segments\n",
    "\n",
    "A **line segment** is the region of a line between two points, defined analytically as:\n",
    "\n",
    "$$P + tA$$\n",
    "\n",
    "for $0 \\leq t \\leq 1$, where $A = Q - P$.\n",
    "\n",
    "This definition says we can construct a line segment by:\n",
    "\n",
    "1. Translating $P$ and $Q$ such that $P'$ is at the origin and let $A = Q'$.\n",
    "2. Constructing a set of all points between $O$ and $A$ (i.e. $O + tA$, for $0 \\leq t \\leq 1$).\n",
    "3. Translating the set of points back to $P$ by reversing the translation at step 1.\n",
    "\n",
    "Lang then goes onto prove that $\\bar{PQ} = \\bar{QP}$ by performing the construction of points between $O$ and $A$ the other way around.\n",
    "\n",
    "### Vectors\n",
    "\n",
    "A **located vector** is an ordered pair of points, denoted by\n",
    "\n",
    "$$\\vec{PQ}$$\n",
    "\n",
    "for two points $P$ and $Q$.\n",
    "\n",
    "Stripping away geometry, we can think entirely analytically about a located vector as an ordered pair of ordered pairs!"
   ],
   "metadata": {
    "collapsed": false,
    "pycharm": {
     "name": "#%% md\n"
    }
   }
  }
 ],
 "metadata": {
  "kernelspec": {
   "display_name": "Python 3",
   "language": "python",
   "name": "python3"
  },
  "language_info": {
   "codemirror_mode": {
    "name": "ipython",
    "version": 2
   },
   "file_extension": ".py",
   "mimetype": "text/x-python",
   "name": "python",
   "nbconvert_exporter": "python",
   "pygments_lexer": "ipython2",
   "version": "2.7.6"
  }
 },
 "nbformat": 4,
 "nbformat_minor": 0
}