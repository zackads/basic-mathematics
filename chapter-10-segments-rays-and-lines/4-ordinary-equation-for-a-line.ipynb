{
 "cells": [
  {
   "cell_type": "markdown",
   "source": [
    "# §4 - Ordinary equation for a line\n",
    "\n",
    "[https://www.docdroid.net/K1VENuF/basic-mathematics-serge-lang-pdf#page=262](https://www.docdroid.net/K1VENuF/basic-mathematics-serge-lang-pdf#page=262)\n",
    "\n",
    "After introducing parametric equations for lines, Lang now introduces what he calls ordinary equations of lines.  We know this as Cartesian form.\n",
    "\n",
    "## Exercises\n",
    "\n",
    "1. $2x + 7y = 13$\n",
    "2. $5y - 3x = 31$\n",
    "3. $7y - x = -10$\n",
    "4. $5y - 4x = -17$\n",
    "5. $y - 2x = 7$\n",
    "6. $3y - 2x = 0$\n",
    "7. $y - x = 0$\n",
    "8. $4y + 3x = -39$"
   ],
   "metadata": {
    "collapsed": false,
    "pycharm": {
     "name": "#%% md\n"
    }
   }
  }
 ],
 "metadata": {
  "kernelspec": {
   "display_name": "Python 3",
   "language": "python",
   "name": "python3"
  },
  "language_info": {
   "codemirror_mode": {
    "name": "ipython",
    "version": 2
   },
   "file_extension": ".py",
   "mimetype": "text/x-python",
   "name": "python",
   "nbconvert_exporter": "python",
   "pygments_lexer": "ipython2",
   "version": "2.7.6"
  }
 },
 "nbformat": 4,
 "nbformat_minor": 0
}